{
 "cells": [
  {
   "cell_type": "markdown",
   "id": "bfbbc29a-cdec-4356-8e9b-2c34e932acb4",
   "metadata": {},
   "source": [
    "# Proteins\n",
    "\n",
    "Standard name - systematic name\n",
    "\n",
    "STE24 - YJR117W\n",
    "\n",
    "RCE1  - YMR274C\n",
    "\n",
    "RAM1  - YDL090C\n",
    "\n",
    "Do not form complexes with each other"
   ]
  },
  {
   "cell_type": "markdown",
   "id": "9b36ebc9-2d5b-48b4-986f-b1ab98c89e49",
   "metadata": {},
   "source": [
    "# Data Preparation"
   ]
  },
  {
   "cell_type": "markdown",
   "id": "537b2d18-419e-4bdc-933e-59d025718c7d",
   "metadata": {},
   "source": [
    "## Packages"
   ]
  },
  {
   "cell_type": "code",
   "execution_count": 1,
   "id": "9240401c-967e-4220-a1f8-594eb2ca38f2",
   "metadata": {},
   "outputs": [],
   "source": [
    "import networkx as nx\n",
    "import numpy as np\n",
    "import matplotlib.pyplot as plt\n",
    "import plotly.express as px # for interactive plot\n",
    "import pandas as pd\n",
    "\n",
    "# for Louvain algo\n",
    "from networkx.algorithms import community\n",
    "from networkx.algorithms.community import greedy_modularity_communities\n",
    "from networkx.algorithms.community import k_clique_communities\n",
    "\n",
    "from community import community_louvain\n",
    "\n",
    "# for copying graph\n",
    "import copy\n",
    "\n",
    "\n",
    "# # set seed\n",
    "# import random\n",
    "# random.seed(2013)\n",
    "\n",
    "# basic settings for plotting figures\n",
    "%matplotlib inline \n",
    "font = {'family' : 'DejaVu Sans',\n",
    "        'weight' : 'bold',\n",
    "        'size'   : 12}\n",
    "\n",
    "plt.rc('font', **font)"
   ]
  },
  {
   "cell_type": "markdown",
   "id": "6e31a889-89ba-40fd-8063-01666cad78c3",
   "metadata": {},
   "source": [
    "## Functions"
   ]
  },
  {
   "cell_type": "code",
   "execution_count": 2,
   "id": "5560cfbe-d429-43ce-b9c5-0bc3353dbde7",
   "metadata": {},
   "outputs": [],
   "source": [
    "'''\n",
    "STE24 - YJR117W\n",
    "RCE1  - YMR274C\n",
    "RAM1  - YDL090C\n",
    "'''\n",
    "# Proteins that we focus on\n",
    "def print_protein(str):\n",
    "    if str == 'YJR117W':\n",
    "        return 'STE24(YJR117W)'\n",
    "    elif str == 'YMR274C':\n",
    "        return 'RCE1(YMR274C)'\n",
    "    elif str == 'YDL090C':\n",
    "        return 'RAM1(YDL090C)'"
   ]
  },
  {
   "cell_type": "markdown",
   "id": "1877a5cc-1873-4b88-83a2-cd7a844b80f7",
   "metadata": {},
   "source": [
    "## Given proteins"
   ]
  },
  {
   "cell_type": "code",
   "execution_count": 3,
   "id": "c90357ed-4dee-4c5d-9edf-c7792d1941cb",
   "metadata": {},
   "outputs": [],
   "source": [
    "# Store proteins into a list\n",
    "all_proteins = ['YJR117W', 'YMR274C', 'YDL090C']"
   ]
  },
  {
   "cell_type": "markdown",
   "id": "45d69eef-8f02-48d8-b5b1-0ca53bbdea54",
   "metadata": {},
   "source": [
    "## Store and modify network data"
   ]
  },
  {
   "cell_type": "code",
   "execution_count": 4,
   "id": "09b4f658-824a-4385-9690-8efe5a5c1ce7",
   "metadata": {},
   "outputs": [],
   "source": [
    "# Store the network as G\n",
    "# Storing format - dictionary: { u: {v1: {'weight': 123.0}, v2: {'weight': 456.0} } }; u, v - str\n",
    "G = nx.read_weighted_edgelist(\"cleanData.txt\",comments=\"#\",nodetype=str)"
   ]
  },
  {
   "cell_type": "code",
   "execution_count": 5,
   "id": "538564cc-ce1d-4f3d-9145-1f939d26ba0b",
   "metadata": {},
   "outputs": [],
   "source": [
    "# Remove edges with confidence score <= 700\n",
    "threshold = 700\n",
    "for edge in G.edges:     \n",
    "    # edge (u, v), an edge between node u and node v\n",
    "    u = edge[0]\n",
    "    v = edge[1]\n",
    "    weight = G[u][v]['weight']\n",
    "\n",
    "    if weight <= threshold:\n",
    "        G.remove_edge(u,v)"
   ]
  },
  {
   "cell_type": "code",
   "execution_count": 6,
   "id": "7e19b2a4-35e6-41aa-81ae-70fa911fa4fe",
   "metadata": {},
   "outputs": [],
   "source": [
    "# only consider the largest component to get rid of the nodes with 0 degree\n",
    "largest_cc = max(nx.connected_components(G), key=len)\n",
    "G = G.subgraph(largest_cc)"
   ]
  },
  {
   "cell_type": "markdown",
   "id": "c30c160c-c216-416d-be38-5a6c034de7fc",
   "metadata": {},
   "source": [
    "# Community analysis"
   ]
  },
  {
   "cell_type": "markdown",
   "id": "3f14ae73-75f9-4d7b-9364-0888f89989de",
   "metadata": {},
   "source": [
    "## Louvain"
   ]
  },
  {
   "cell_type": "code",
   "execution_count": 7,
   "id": "718016a6-f7a4-4630-a957-ef192b7cac9c",
   "metadata": {},
   "outputs": [],
   "source": [
    "'''\n",
    "Louvain group modularity algorithm\n",
    "\n",
    "- Intro:\n",
    " https://iopscience.iop.org/article/10.1088/1742-5468/2008/10/P10008\n",
    " https://en.wikipedia.org/wiki/Louvain_modularity\n",
    " Based on modularity optimization\n",
    "\n",
    "- Documentation: \n",
    " https://python-louvain.readthedocs.io/en/latest/api.html\n",
    "\n",
    "- Why:\n",
    " Good enough for the starting stage\n",
    " O(n log n) -> very efficient to build, especially when the dataset is large\n",
    " Modularity matches Biological meaning: internal dense connection - more interaction among proteins - have similar function\n",
    "'''\n",
    "\n",
    "# {protein1: community, protein2: community, ...} - {string : int}\n",
    "# weight = 'None' as unweighted graph\n",
    "# random_state: int; seed\n",
    "# resolution: int; control the community size\n",
    "\n",
    "# partition_Louvain = community_louvain.best_partition(G, weight = 'None', random_state = 2013, resolution = 1.0) \n",
    "\n",
    "# try 100 times to find the partition with highest modularity\n",
    "loop_time = 100\n",
    "all_modularity = []\n",
    "max_modularity = float('-inf')\n",
    "chosen_seed = -1\n",
    "\n",
    "\n",
    "for i in range(loop_time):\n",
    "    seed = i\n",
    "    temp_partition = community_louvain.best_partition(G, weight = 'None', random_state = seed, resolution = 1.0)\n",
    "    # https://python-louvain.readthedocs.io/en/latest/api.html\n",
    "    temp_modularity = community_louvain.modularity(temp_partition, G, weight='None')\n",
    "    \n",
    "    all_modularity.append(temp_modularity) # store only for future reference\n",
    "    \n",
    "    if temp_modularity >= max_modularity:\n",
    "        max_modularity = temp_modularity\n",
    "        partition_Louvain = temp_partition\n",
    "        chosen_seed = i"
   ]
  },
  {
   "cell_type": "code",
   "execution_count": 8,
   "id": "6440a728-0340-44dd-a169-7e0f25789e9f",
   "metadata": {},
   "outputs": [
    {
     "name": "stdout",
     "output_type": "stream",
     "text": [
      "The maximum modularity is: 0.6501388566754679; while the minimum modularity is 0.6395302586804178\n",
      "The seed that achieve the max modularity is: 53\n",
      "Total number of communities: 20\n"
     ]
    }
   ],
   "source": [
    "print(f'The maximum modularity is: {max_modularity}; while the minimum modularity is {min(all_modularity)}')\n",
    "print(f'The seed that achieve the max modularity is: {chosen_seed}')\n",
    "\n",
    "total_communities = set()\n",
    "for community in partition_Louvain.values():\n",
    "    total_communities.add(community)\n",
    "print(f'Total number of communities: {len(total_communities)}')"
   ]
  },
  {
   "cell_type": "markdown",
   "id": "189e1caf-5e6e-4fe0-b27e-75d77323c73e",
   "metadata": {},
   "source": [
    "## Communities of the chosen proteins"
   ]
  },
  {
   "cell_type": "code",
   "execution_count": 9,
   "id": "66ec3be7-f41f-483b-9a43-2b106c2290d1",
   "metadata": {},
   "outputs": [
    {
     "name": "stdout",
     "output_type": "stream",
     "text": [
      "STE24(YJR117W) is in community 11\n",
      "RCE1(YMR274C) is in community 11\n",
      "RAM1(YDL090C) is in community 11\n"
     ]
    }
   ],
   "source": [
    "home_community = set()\n",
    "\n",
    "for protein in all_proteins:\n",
    "    home_community.add(partition_Louvain[protein])\n",
    "    print(f'{print_protein(protein)} is in community {partition_Louvain[protein]}')"
   ]
  },
  {
   "cell_type": "markdown",
   "id": "d2ad46fb-fe07-45c6-bfb2-dd487c839878",
   "metadata": {},
   "source": [
    "As we can see:\n",
    "They are all in a same community 11"
   ]
  },
  {
   "cell_type": "markdown",
   "id": "4eed3896-5c9d-46d8-9774-f3e89664198b",
   "metadata": {},
   "source": [
    "## Adjacent communities"
   ]
  },
  {
   "cell_type": "markdown",
   "id": "00af84b7-90a5-4711-b9cb-aafb0149881d",
   "metadata": {},
   "source": [
    "### Directly connected to the three poteins"
   ]
  },
  {
   "cell_type": "code",
   "execution_count": 10,
   "id": "55810da1-361a-4b48-86f5-f866165a2dca",
   "metadata": {},
   "outputs": [
    {
     "name": "stdout",
     "output_type": "stream",
     "text": [
      "Adjacent communities are {0, 1, 2, 3, 4, 5, 6, 7, 8, 9, 10, 12, 13, 14, 15, 16, 17, 19}\n"
     ]
    }
   ],
   "source": [
    "# get the list of proteins in a same community as the target ones (included target ones)\n",
    "proteins_in_target_community = ['YJR117W', 'YMR274C', 'YDL090C']\n",
    "for protein, community in partition_Louvain.items():\n",
    "    if community == partition_Louvain['YJR117W']:\n",
    "        proteins_in_target_community.append(protein)\n",
    "\n",
    "adjacent_communities = set() # {int}\n",
    "\n",
    "for protein in proteins_in_target_community:\n",
    "    neighbors = G.neighbors(protein)\n",
    "  \n",
    "    for neighbor in neighbors:\n",
    "        community = partition_Louvain[neighbor]\n",
    "\n",
    "        if community != partition_Louvain[protein]:\n",
    "            adjacent_communities.add(community)\n",
    "\n",
    "print(f'Adjacent communities are {adjacent_communities}')"
   ]
  },
  {
   "cell_type": "code",
   "execution_count": 11,
   "id": "428ed837-f1b6-4795-9239-2a2474bbc047",
   "metadata": {},
   "outputs": [],
   "source": [
    "# union all communities: home community + adjacent community\n",
    "all_communities = home_community.union(adjacent_communities)\n",
    "print(f'All communities to look at are {all_communities}')"
   ]
  },
  {
   "cell_type": "markdown",
   "id": "d38a25c4-9082-43c8-9b85-3d191d774061",
   "metadata": {},
   "source": [
    "## Store communities as its own group"
   ]
  },
  {
   "cell_type": "code",
   "execution_count": 12,
   "id": "327e9c9b-be6d-48ae-a924-a6f8d9243723",
   "metadata": {},
   "outputs": [],
   "source": [
    "'''\n",
    "store communities in a dict: \n",
    "{4: subgraph of corresponding nodes, 6: subgraph of corresponding nodes, ...}\n",
    "'''\n",
    "\n",
    "# Store communities and their corresponding protein name as a dictionary\n",
    "# {0: [proteins], 8: [proteins]}\n",
    "\n",
    "community_proteinList = {}\n",
    "\n",
    "for community_num in all_communities:\n",
    "    community_proteinList[community_num] = []\n",
    "\n",
    "for protein, community_num in partition_Louvain.items():\n",
    "    if community_num in all_communities:\n",
    "        community_proteinList[community_num].append(protein)\n",
    "\n",
    "# Dictionary storing community and corresponding nodes' subgraph information\n",
    "clusters = {}\n",
    "for community_num, protein_list in community_proteinList.items():\n",
    "    clusters[community_num] = G.subgraph(protein_list)"
   ]
  },
  {
   "cell_type": "markdown",
   "id": "5f143ef4-5035-44ac-9a9b-875280f8cbd1",
   "metadata": {},
   "source": [
    "## Communities size and number of edges"
   ]
  },
  {
   "cell_type": "code",
   "execution_count": 13,
   "id": "87a05c52-0b7b-4550-b571-ce52b5293062",
   "metadata": {},
   "outputs": [
    {
     "name": "stdout",
     "output_type": "stream",
     "text": [
      "The size of Community 0 is: 212\n",
      "The number of edges of Community 0 is: 1961\n",
      "\n",
      "The size of Community 1 is: 655\n",
      "The number of edges of Community 1 is: 5127\n",
      "\n",
      "The size of Community 2 is: 230\n",
      "The number of edges of Community 2 is: 1014\n",
      "\n",
      "The size of Community 3 is: 116\n",
      "The number of edges of Community 3 is: 500\n",
      "\n",
      "The size of Community 4 is: 22\n",
      "The number of edges of Community 4 is: 35\n",
      "\n",
      "The size of Community 5 is: 283\n",
      "The number of edges of Community 5 is: 2116\n",
      "\n",
      "The size of Community 6 is: 227\n",
      "The number of edges of Community 6 is: 1070\n",
      "\n",
      "The size of Community 7 is: 332\n",
      "The number of edges of Community 7 is: 2371\n",
      "\n",
      "The size of Community 8 is: 60\n",
      "The number of edges of Community 8 is: 329\n",
      "\n",
      "The size of Community 9 is: 158\n",
      "The number of edges of Community 9 is: 562\n",
      "\n",
      "The size of Community 10 is: 280\n",
      "The number of edges of Community 10 is: 786\n",
      "\n",
      "The size of Community 11 is: 541\n",
      "The number of edges of Community 11 is: 2447\n",
      "\n",
      "The size of Community 12 is: 288\n",
      "The number of edges of Community 12 is: 1321\n",
      "\n",
      "The size of Community 13 is: 145\n",
      "The number of edges of Community 13 is: 494\n",
      "\n",
      "The size of Community 14 is: 346\n",
      "The number of edges of Community 14 is: 19639\n",
      "\n",
      "The size of Community 15 is: 150\n",
      "The number of edges of Community 15 is: 475\n",
      "\n",
      "The size of Community 16 is: 167\n",
      "The number of edges of Community 16 is: 444\n",
      "\n",
      "The size of Community 17 is: 161\n",
      "The number of edges of Community 17 is: 426\n",
      "\n",
      "The size of Community 19 is: 20\n",
      "The number of edges of Community 19 is: 48\n",
      "\n"
     ]
    }
   ],
   "source": [
    "for community_num, protein_list in community_proteinList.items():\n",
    "    print(f'The size of Community {community_num} is: {len(protein_list)}')\n",
    "    print(f'The number of edges of Community {community_num} is: {clusters[community_num].number_of_edges()}\\n')"
   ]
  },
  {
   "cell_type": "markdown",
   "id": "6dcbbf5a-ed8f-4284-a7d4-cff0440d9dc1",
   "metadata": {},
   "source": [
    "## Select reasonable adjacent communities"
   ]
  },
  {
   "cell_type": "markdown",
   "id": "1abe3d1e-2836-4775-97f8-21453c5ea52b",
   "metadata": {},
   "source": [
    "### Rank normalised number of connections from target community to adjacent communities"
   ]
  },
  {
   "cell_type": "code",
   "execution_count": 14,
   "id": "d696676c-9b23-4539-bd9f-8920d5b10f0c",
   "metadata": {},
   "outputs": [
    {
     "name": "stdout",
     "output_type": "stream",
     "text": [
      "Community 0 has number of connection: 92\n",
      "Community 0 has normalised connection score: 0.4339622641509434\n",
      "\n",
      "Community 1 has number of connection: 250\n",
      "Community 1 has normalised connection score: 0.3816793893129771\n",
      "\n",
      "Community 2 has number of connection: 54\n",
      "Community 2 has normalised connection score: 0.23478260869565218\n",
      "\n",
      "Community 3 has number of connection: 23\n",
      "Community 3 has normalised connection score: 0.19827586206896552\n",
      "\n",
      "Community 4 has number of connection: 1\n",
      "Community 4 has normalised connection score: 0.045454545454545456\n",
      "\n",
      "Community 5 has number of connection: 171\n",
      "Community 5 has normalised connection score: 0.6042402826855123\n",
      "\n",
      "Community 6 has number of connection: 83\n",
      "Community 6 has normalised connection score: 0.3656387665198238\n",
      "\n",
      "Community 7 has number of connection: 34\n",
      "Community 7 has normalised connection score: 0.10240963855421686\n",
      "\n",
      "Community 8 has number of connection: 25\n",
      "Community 8 has normalised connection score: 0.4166666666666667\n",
      "\n",
      "Community 9 has number of connection: 15\n",
      "Community 9 has normalised connection score: 0.0949367088607595\n",
      "\n",
      "Community 10 has number of connection: 4\n",
      "Community 10 has normalised connection score: 0.014285714285714285\n",
      "\n",
      "Community 12 has number of connection: 131\n",
      "Community 12 has normalised connection score: 0.4548611111111111\n",
      "\n",
      "Community 13 has number of connection: 35\n",
      "Community 13 has normalised connection score: 0.2413793103448276\n",
      "\n",
      "Community 14 has number of connection: 90\n",
      "Community 14 has normalised connection score: 0.26011560693641617\n",
      "\n",
      "Community 15 has number of connection: 16\n",
      "Community 15 has normalised connection score: 0.10666666666666667\n",
      "\n",
      "Community 16 has number of connection: 57\n",
      "Community 16 has normalised connection score: 0.3413173652694611\n",
      "\n",
      "Community 17 has number of connection: 8\n",
      "Community 17 has normalised connection score: 0.049689440993788817\n",
      "\n",
      "Community 19 has number of connection: 5\n",
      "Community 19 has normalised connection score: 0.25\n",
      "\n"
     ]
    }
   ],
   "source": [
    "# direct connction: normalised number of connections between the target community and adjacent communities\n",
    "# direction score: number of connections between the target community and adjacent communities / total number of connections of the adjacent community \n",
    "direct_connection = {}\n",
    "for community in adjacent_communities:\n",
    "    direct_connection[community] = 0\n",
    "\n",
    "for protein in proteins_in_target_community:\n",
    "    for community, nodeList in community_proteinList.items():\n",
    "        if community in adjacent_communities:\n",
    "            for node in nodeList:\n",
    "                if node in G.neighbors(protein):\n",
    "                    direct_connection[community] += 1\n",
    "\n",
    "# normalised the number of connection\n",
    "for community, n_connection in direct_connection.items():\n",
    "    print(f'Community {community} has number of connection: {direct_connection[community]}')\n",
    "   \n",
    "    direct_connection[community] = n_connection / len(community_proteinList[community])   \n",
    "    print(f'Community {community} has normalised connection score: {direct_connection[community]}')\n",
    "    print('')"
   ]
  },
  {
   "cell_type": "code",
   "execution_count": 15,
   "id": "53cf7b0b-432a-4253-8449-532d982437b6",
   "metadata": {},
   "outputs": [
    {
     "name": "stdout",
     "output_type": "stream",
     "text": [
      "Community 5 has score: 0.6042402826855123 (after sorted)\n",
      "Community 12 has score: 0.4548611111111111 (after sorted)\n",
      "Community 0 has score: 0.4339622641509434 (after sorted)\n",
      "Community 8 has score: 0.4166666666666667 (after sorted)\n",
      "Community 1 has score: 0.3816793893129771 (after sorted)\n",
      "Community 6 has score: 0.3656387665198238 (after sorted)\n",
      "Community 16 has score: 0.3413173652694611 (after sorted)\n",
      "Community 14 has score: 0.26011560693641617 (after sorted)\n",
      "Community 19 has score: 0.25 (after sorted)\n",
      "Community 13 has score: 0.2413793103448276 (after sorted)\n",
      "Community 2 has score: 0.23478260869565218 (after sorted)\n",
      "Community 3 has score: 0.19827586206896552 (after sorted)\n",
      "Community 15 has score: 0.10666666666666667 (after sorted)\n",
      "Community 7 has score: 0.10240963855421686 (after sorted)\n",
      "Community 9 has score: 0.0949367088607595 (after sorted)\n",
      "Community 17 has score: 0.049689440993788817 (after sorted)\n",
      "Community 4 has score: 0.045454545454545456 (after sorted)\n",
      "Community 10 has score: 0.014285714285714285 (after sorted)\n",
      "\n",
      " The chosen adjacent communities (top 4) are: [5, 12, 0, 8]\n"
     ]
    }
   ],
   "source": [
    "# sort the number of direct connection with value\n",
    "\n",
    "#sorted_direct_connection = {k: v for k, v in sorted(direct_connection.items(), key=lambda item: item[1])}\n",
    "sorted_direct_connection = dict(sorted(direct_connection.items(), key=lambda item: item[1], reverse = True))\n",
    "\n",
    "for key, items in sorted_direct_connection.items():\n",
    "    print(f'Community {key} has score: {items} (after sorted)')\n",
    "\n",
    "\n",
    "# choose top adjacent communities\n",
    "n_adjacent = 4\n",
    "chosen_adjacent = list( sorted_direct_connection.keys() )[:n_adjacent]\n",
    "\n",
    "print(f'\\n The chosen adjacent communities (top {n_adjacent}) are: {chosen_adjacent}')"
   ]
  },
  {
   "cell_type": "markdown",
   "id": "262debf4-de6f-4246-9366-c431c473feb7",
   "metadata": {},
   "source": [
    "## Representative nodes in the found communities"
   ]
  },
  {
   "cell_type": "markdown",
   "id": "a5f93416-62aa-47bd-80f2-3221c6b8d415",
   "metadata": {},
   "source": [
    "### Representative nodes: (closeness), betweeness centrality, (eigenvalue), information, subgraph"
   ]
  },
  {
   "cell_type": "code",
   "execution_count": 16,
   "id": "8b1f389b-7016-4abe-8553-f6063d057305",
   "metadata": {},
   "outputs": [],
   "source": [
    "# Closeness\n",
    "'''\n",
    "* NetworkX package:\n",
    "  - closeness_centrality(G, u=None, distance=None, wf_improved=True) \n",
    "  - return Dictionary of nodes with closeness centrality as the value. {node: centrality}\n",
    "  - https://networkx.org/documentation/stable/reference/algorithms/generated/networkx.algorithms.centrality.closeness_centrality.html\n",
    "\n",
    "* Algorithm\n",
    "  - Create new 5 groups based on the communities: select nodes from G\n",
    "  - For each group, use closeness_centrality() function\n",
    "  - Figure out the highest centrality node in each group by maximum value among all the keys\n",
    "'''\n",
    "\n",
    "# Betweeness centrality - prefered\n",
    "'''\n",
    "* NetworkX package:\n",
    "  - betweenness_centrality(G, k=None, normalized=True, weight=None, endpoints=False, seed=None) \n",
    "  - return Dictionary of nodes with betweeness centrality as the value. {node: centrality}\n",
    "  - https://networkx.org/documentation/stable/reference/algorithms/generated/networkx.algorithms.centrality.betweenness_centrality.html\n",
    "\n",
    "* Algorithm\n",
    "  - Given the 5 created groups\n",
    "  - For each group, use betweenness_centrality() function\n",
    "  - Figure out the highest centrality node in each group by maximum value among all the keys\n",
    "  - Can do it together with the closeness centrality\n",
    "'''\n",
    "\n",
    "# eigenvalue\n",
    "'''\n",
    "networkX\n",
    "eigenvector_centrality(G, max_iter=100, tol=1e-06, nstart=None, weight=None)\n",
    "'''\n",
    "\n",
    "# Information\n",
    "'''\n",
    "networkX\n",
    "information_centrality(G, weight=None, dtype=<class 'float'>, solver='lu')\n",
    "'''\n",
    "\n",
    "# Subgraph\n",
    "'''\n",
    "networkX\n",
    "subgraph_centrality(G)\n",
    "'''\n",
    "\n",
    "# {community: protein, community: protein, xxx}\n",
    "closeness_representatives = {}\n",
    "betweenness_representatives = {}\n",
    "eigenvalue_representatives = {}\n",
    "information_representatives = {}\n",
    "subgraph_representatives = {}\n",
    "PCA_representatives = {}\n",
    "\n",
    "communities_to_focus = home_community.union(chosen_adjacent)\n",
    "\n",
    "for community in communities_to_focus:\n",
    "    # closeness {node: score, node: score, xxx}\n",
    "    closeness = {}\n",
    "    closeness = nx.closeness_centrality(clusters[community], u=None, distance=None, wf_improved=True)\n",
    "    max_closeness = max(closeness.values()) # max because in networkX it is reciprocal to the average distance\n",
    "    \n",
    "    for protein in closeness:\n",
    "        if closeness[protein] == max_closeness:\n",
    "            closeness_representatives[community] = protein\n",
    "\n",
    "    # betweenness\n",
    "    # whether to set seed?\n",
    "    betweenness = {}\n",
    "    betweenness = nx.betweenness_centrality(clusters[community], k=None, normalized=True, weight=None, endpoints=False, seed=2013) \n",
    "    max_betweenness = max(betweenness.values())\n",
    "    \n",
    "    for protein in betweenness:\n",
    "        if betweenness[protein] == max_betweenness:\n",
    "            betweenness_representatives[community] = protein\n",
    "\n",
    "    # eigenvalue\n",
    "    # how to set max_iter\n",
    "    eigenvalue = {}\n",
    "    eigenvalue = nx.eigenvector_centrality(clusters[community], max_iter=150, tol=1e-06, nstart=None, weight=None)\n",
    "    max_eigenvalue = max(eigenvalue.values())\n",
    "    \n",
    "    for protein in eigenvalue:\n",
    "        if eigenvalue[protein] == max_eigenvalue:\n",
    "            eigenvalue_representatives[community] = protein  \n",
    "\n",
    "    # information\n",
    "    information = {}\n",
    "    information = nx.information_centrality(clusters[community], weight=None, solver='lu')\n",
    "    max_information = max(information.values())\n",
    "    \n",
    "    for protein in information:\n",
    "        if information[protein] == max_information:\n",
    "            information_representatives[community] = protein \n",
    "\n",
    "    # subgraph\n",
    "    subgraph = {}\n",
    "    subgraph = nx.subgraph_centrality(clusters[community])\n",
    "    max_subgraph = max(subgraph.values())\n",
    "    \n",
    "    for protein in subgraph:\n",
    "        if subgraph[protein] == max_subgraph:\n",
    "            subgraph_representatives[community] = protein \n",
    "\n",
    "    # PCA: 0.29*betweenness + 0.34*subgaph + 0.37*information\n",
    "    PCA = {}\n",
    "    for node in list(clusters[community]):\n",
    "        pca_value = 0.29 * betweenness[node] + 0.34 * subgraph[node] + 0.37 * information[node]\n",
    "        PCA[node] = pca_value\n",
    "\n",
    "        \n",
    "    max_pca = max(PCA.values())\n",
    "\n",
    "    for protein in PCA:\n",
    "        if PCA[protein] == max_pca:\n",
    "            PCA_representatives[community] = protein"
   ]
  },
  {
   "cell_type": "code",
   "execution_count": 17,
   "id": "38d04c38-838e-46e0-8614-6126128ac6f4",
   "metadata": {},
   "outputs": [
    {
     "name": "stdout",
     "output_type": "stream",
     "text": [
      "Betweenness representatives:\n",
      "  - Community 0: YER095W\n",
      "  - Community 5: YBR010W\n",
      "  - Community 8: YGL045W\n",
      "  - Community 11: YDR477W\n",
      "  - Community 12: YDR388W\n",
      "\n",
      "Information representatives:\n",
      "  - Community 0: YER095W\n",
      "  - Community 5: YBR010W\n",
      "  - Community 8: YLR025W\n",
      "  - Community 11: YLR113W\n",
      "  - Community 12: YDR388W\n",
      "\n",
      "Subgraph representatives:\n",
      "  - Community 0: YER095W\n",
      "  - Community 5: YBR010W\n",
      "  - Community 8: YLR025W\n",
      "  - Community 11: YLR113W\n",
      "  - Community 12: YBL037W\n",
      "\n",
      "All representatives: {'YBR010W', 'YDR477W', 'YGL045W', 'YLR113W', 'YER095W', 'YLR025W', 'YBL037W', 'YDR388W'}\n"
     ]
    }
   ],
   "source": [
    "# print results and put them in a set\n",
    "representatives = set()\n",
    "\n",
    "# print('Closeness representatives:')\n",
    "# for communityNum, protein in closeness_representatives.items():\n",
    "#     representatives.add(protein)\n",
    "#     print(f'  - Community {communityNum}: {protein}')\n",
    "#print('')\n",
    "\n",
    "print('Betweenness representatives:')\n",
    "for communityNum, protein in betweenness_representatives.items():\n",
    "    representatives.add(protein)\n",
    "    print(f'  - Community {communityNum}: {protein}')\n",
    "print('')\n",
    "\n",
    "# print('Eigenvalue representatives:')\n",
    "# for communityNum, protein in eigenvalue_representatives.items():\n",
    "#     representatives.add(protein)\n",
    "#     print(f'  - Community {communityNum}: {protein}')\n",
    "# print('')\n",
    "\n",
    "print('Information representatives:')\n",
    "for communityNum, protein in information_representatives.items():\n",
    "    representatives.add(protein)\n",
    "    print(f'  - Community {communityNum}: {protein}')\n",
    "print('')\n",
    "\n",
    "print('Subgraph representatives:')\n",
    "for communityNum, protein in subgraph_representatives.items():\n",
    "    representatives.add(protein)\n",
    "    print(f'  - Community {communityNum}: {protein}')\n",
    "print('')\n",
    "\n",
    "# print('PCA representatives:')\n",
    "# for communityNum, protein in PCA_representatives.items():\n",
    "#     representatives.add(protein)\n",
    "#     print(f'  - Community {communityNum}: {protein}')\n",
    "# print('')\n",
    "\n",
    "print(f'All representatives: {representatives}')"
   ]
  },
  {
   "cell_type": "markdown",
   "id": "232c356a-875c-4b42-908d-56ce49441111",
   "metadata": {},
   "source": [
    "### Shotest paths between target proteins and representatives"
   ]
  },
  {
   "cell_type": "code",
   "execution_count": 18,
   "id": "7a095899-8ed8-426d-bc97-dcb53e24d8d0",
   "metadata": {},
   "outputs": [
    {
     "name": "stdout",
     "output_type": "stream",
     "text": [
      "- STE24(YJR117W):\n",
      "Shortest path to YBR010W: ['YJR117W', 'YLR292C', 'YMR186W', 'YBR010W']\n",
      "Shortest path to YDR477W: ['YJR117W', 'YDL090C', 'YNL098C', 'YDR477W']\n",
      "Shortest path to YGL045W: ['YJR117W', 'YKL209C', 'YFL026W', 'YFR022W', 'YGL045W']\n",
      "Shortest path to YLR113W: ['YJR117W', 'YDL090C', 'YNL098C', 'YLR113W']\n",
      "Shortest path to YER095W: ['YJR117W', 'YLR292C', 'YMR186W', 'YER095W']\n",
      "Shortest path to YLR025W: ['YJR117W', 'YKL209C', 'YMR297W', 'YNR006W', 'YLR025W']\n",
      "Shortest path to YBL037W: ['YJR117W', 'YMR214W', 'YDR320C', 'YGR167W', 'YBL037W']\n",
      "Shortest path to YDR388W: ['YJR117W', 'YKL209C', 'YMR297W', 'YJL154C', 'YDR388W']\n",
      "\n",
      "- RCE1(YMR274C):\n",
      "Shortest path to YBR010W: ['YMR274C', 'YNL098C', 'YBR195C', 'YBR010W']\n",
      "Shortest path to YDR477W: ['YMR274C', 'YNL098C', 'YDR477W']\n",
      "Shortest path to YGL045W: ['YMR274C', 'YNL098C', 'YFR022W', 'YGL045W']\n",
      "Shortest path to YLR113W: ['YMR274C', 'YNL098C', 'YLR113W']\n",
      "Shortest path to YER095W: ['YMR274C', 'YDL135C', 'YOR127W', 'YNL298W', 'YER095W']\n",
      "Shortest path to YLR025W: ['YMR274C', 'YNL098C', 'YBR083W', 'YDR043C', 'YLR025W']\n",
      "Shortest path to YBL037W: ['YMR274C', 'YNL041C', 'YJL004C', 'YGR261C', 'YBL037W']\n",
      "Shortest path to YDR388W: ['YMR274C', 'YDL135C', 'YOR127W', 'YDL117W', 'YDR388W']\n",
      "\n",
      "- RAM1(YDL090C):\n",
      "Shortest path to YBR010W: ['YDL090C', 'YNL098C', 'YBR195C', 'YBR010W']\n",
      "Shortest path to YDR477W: ['YDL090C', 'YNL098C', 'YDR477W']\n",
      "Shortest path to YGL045W: ['YDL090C', 'YNL098C', 'YFR022W', 'YGL045W']\n",
      "Shortest path to YLR113W: ['YDL090C', 'YNL098C', 'YLR113W']\n",
      "Shortest path to YER095W: ['YDL090C', 'YBR003W', 'YKL216W', 'YEL021W', 'YER095W']\n",
      "Shortest path to YLR025W: ['YDL090C', 'YNL098C', 'YBR083W', 'YDR043C', 'YLR025W']\n",
      "Shortest path to YBL037W: ['YDL090C', 'YMR274C', 'YNL051W', 'YJL004C', 'YGR261C', 'YBL037W']\n",
      "Shortest path to YDR388W: ['YDL090C', 'YKL209C', 'YMR297W', 'YJL154C', 'YDR388W']\n",
      "\n"
     ]
    }
   ],
   "source": [
    "for target_protein in all_proteins:\n",
    "    print('- ' + print_protein(target_protein) + ':')\n",
    "    for rep in representatives:\n",
    "        path = nx.shortest_path(G, source=target_protein, target=rep, weight=None, method='dijkstra')\n",
    "        print(f\"Shortest path to {rep}: {path}\")\n",
    "    print('')"
   ]
  },
  {
   "cell_type": "code",
   "execution_count": null,
   "id": "f97b4229-fd46-4d9d-92f3-2440a50e185a",
   "metadata": {},
   "outputs": [],
   "source": []
  }
 ],
 "metadata": {
  "kernelspec": {
   "display_name": "Python 3 (ipykernel)",
   "language": "python",
   "name": "python3"
  },
  "language_info": {
   "codemirror_mode": {
    "name": "ipython",
    "version": 3
   },
   "file_extension": ".py",
   "mimetype": "text/x-python",
   "name": "python",
   "nbconvert_exporter": "python",
   "pygments_lexer": "ipython3",
   "version": "3.9.1"
  }
 },
 "nbformat": 4,
 "nbformat_minor": 5
}
