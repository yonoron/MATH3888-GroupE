{
 "cells": [
  {
   "cell_type": "code",
   "execution_count": 3,
   "id": "f189c606-ec9e-4c58-a735-bab92fd800f2",
   "metadata": {},
   "outputs": [
    {
     "name": "stdout",
     "output_type": "stream",
     "text": [
      "{'YBL037W', 'YGR152C', 'YBR010W', 'YDR477W', 'YFL026W', 'YDR388W', 'YLR025W', 'YNL098C', 'YKL178C', 'YGL045W', 'YMR037C', 'YER095W', 'YNL298W', 'YLR113W'}\n"
     ]
    }
   ],
   "source": [
    "# Union all findings\n",
    "general = {'YER095W', 'YBR010W', 'YLR025W', 'YBL037W', 'YGL045W', 'YDR477W', 'YLR113W', 'YDR388W'}\n",
    "SA = {'YGR152C', 'YFL026W', 'YLR113W', 'YMR037C', 'YNL098C', 'YNL298W', 'YKL178C'}\n",
    "\n",
    "all_representatives = general.union(SA)\n",
    "\n",
    "print(all_representatives)\n"
   ]
  },
  {
   "cell_type": "code",
   "execution_count": 7,
   "id": "8635a17b-7db3-43c6-b459-dbdb1cfec58c",
   "metadata": {},
   "outputs": [
    {
     "name": "stdout",
     "output_type": "stream",
     "text": [
      "There are 4 as the previous proposal: {'YBL037W', 'YDR477W', 'YLR113W', 'YDR388W'}\n"
     ]
    }
   ],
   "source": [
    "# check overlap with previous proposal\n",
    "previous = {'YDL100C', 'YJL154C', 'YDR072C', 'YLL013C', 'YNL064C', 'YBL037W', 'YOL147C', 'YGL013C', 'YLR113W', 'YOR065W', 'YDR388W', 'YOL013C', 'YPL106C', 'YDR477W'}\n",
    "overlap_proteins = set()\n",
    "\n",
    "for node in general:\n",
    "    if node in previous:\n",
    "        overlap_proteins.add(node)\n",
    "\n",
    "for node in SA:\n",
    "    if node in previous:\n",
    "        overlap_proteins.add(node)   \n",
    "        \n",
    "n_overlap = len(overlap_proteins)\n",
    "\n",
    "print(f'There are {n_overlap} as the previous proposal: {overlap_proteins}')"
   ]
  },
  {
   "cell_type": "code",
   "execution_count": null,
   "id": "1cdff7f5-811c-4705-ba0a-e44d6311786d",
   "metadata": {},
   "outputs": [],
   "source": []
  }
 ],
 "metadata": {
  "kernelspec": {
   "display_name": "Python 3 (ipykernel)",
   "language": "python",
   "name": "python3"
  },
  "language_info": {
   "codemirror_mode": {
    "name": "ipython",
    "version": 3
   },
   "file_extension": ".py",
   "mimetype": "text/x-python",
   "name": "python",
   "nbconvert_exporter": "python",
   "pygments_lexer": "ipython3",
   "version": "3.9.1"
  }
 },
 "nbformat": 4,
 "nbformat_minor": 5
}
