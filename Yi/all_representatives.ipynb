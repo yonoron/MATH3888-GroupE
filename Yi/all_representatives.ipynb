{
 "cells": [
  {
   "cell_type": "code",
   "execution_count": null,
   "id": "d757a9eb-8427-416c-8da4-d92b3bd4de26",
   "metadata": {},
   "outputs": [],
   "source": [
    "'''\n",
    "Here, proposed_set is the first set in the presentatio; \n",
    "first_set is the second set in the presentation; \n",
    "second_set is for other trials *******\n",
    "'''"
   ]
  },
  {
   "cell_type": "markdown",
   "id": "e28a15c8-5f3b-4173-a480-b80757c2b9dd",
   "metadata": {},
   "source": [
    "# Proteins\n",
    "\n",
    "Standard name - systematic name\n",
    "\n",
    "STE24 - YJR117W\n",
    "\n",
    "RCE1  - YMR274C\n",
    "\n",
    "RAM1  - YDL090C\n",
    "\n",
    "Do not form complexes with each other\n",
    "\n",
    "\n",
    "Found three useful ones:\n",
    "\n",
    "(first trial)\n",
    "- YDR388W (Cytoskeleton one):  community 15, betweenness -> not in human\n",
    "\n",
    "(second trial)\n",
    "- YDR388W (Cytoskeleton one): community 12; betweenness, information, PCA; general partition -> not in human\n",
    "\n",
    "- YLR025W (Endosomal one): community 8; information, subgraph, PCA; general partition\n",
    "\n",
    "- YMR037C (DNA binding transcription): community 0, betweenness, information; SA partition\n",
    "\n",
    "- YNL298W: communitty 11, information; SA partition"
   ]
  },
  {
   "cell_type": "code",
   "execution_count": 1,
   "id": "18c7cef1-0e8e-43e0-82e0-5bd112121034",
   "metadata": {},
   "outputs": [],
   "source": [
    "import networkx as nx"
   ]
  },
  {
   "cell_type": "code",
   "execution_count": 2,
   "id": "c2e72822-88f0-4e6a-80c9-ee04b29c869b",
   "metadata": {},
   "outputs": [],
   "source": [
    "'''\n",
    "STE24 - YJR117W\n",
    "RCE1  - YMR274C\n",
    "RAM1  - YDL090C\n",
    "'''\n",
    "# Proteins that we focus on\n",
    "def print_protein(str):\n",
    "    if str == 'YJR117W':\n",
    "        return 'STE24(YJR117W)'\n",
    "    elif str == 'YMR274C':\n",
    "        return 'RCE1(YMR274C)'\n",
    "    elif str == 'YDL090C':\n",
    "        return 'RAM1(YDL090C)'"
   ]
  },
  {
   "cell_type": "code",
   "execution_count": 3,
   "id": "40b11546-7def-4f94-9cf9-1945fe179a65",
   "metadata": {},
   "outputs": [],
   "source": [
    "G = nx.read_weighted_edgelist(\"cleanData.txt\",comments=\"#\",nodetype=str)"
   ]
  },
  {
   "cell_type": "code",
   "execution_count": 4,
   "id": "45a80840-afe3-456b-9fc2-ddeb83715c0b",
   "metadata": {},
   "outputs": [],
   "source": [
    "# Store proteins into a list\n",
    "all_proteins = ['YJR117W', 'YMR274C', 'YDL090C']"
   ]
  },
  {
   "cell_type": "markdown",
   "id": "b8cabfb7-2e5d-4371-b452-8079becb9e55",
   "metadata": {},
   "source": [
    "# First set"
   ]
  },
  {
   "cell_type": "code",
   "execution_count": 5,
   "id": "f189c606-ec9e-4c58-a735-bab92fd800f2",
   "metadata": {},
   "outputs": [
    {
     "name": "stdout",
     "output_type": "stream",
     "text": [
      "{'YDR388W', 'YNL098C', 'YBL037W', 'YDR477W', 'YNL298W', 'YLR025W', 'YER095W', 'YGL045W', 'YBR010W', 'YMR037C', 'YGR152C', 'YKL178C', 'YLR113W', 'YFL026W'}\n"
     ]
    }
   ],
   "source": [
    "# Union all findings of the first set\n",
    "general = {'YER095W', 'YBR010W', 'YLR025W', 'YBL037W', 'YGL045W', 'YDR477W', 'YLR113W', 'YDR388W'}\n",
    "SA = {'YGR152C', 'YFL026W', 'YLR113W', 'YMR037C', 'YNL098C', 'YNL298W', 'YKL178C'}\n",
    "\n",
    "# first set\n",
    "# general n = 4, SA n = 3 number of chosen adjacent communities \n",
    "# only choose one representative each community\n",
    "first_set = general.union(SA)\n",
    "\n",
    "print(first_set)"
   ]
  },
  {
   "cell_type": "code",
   "execution_count": 6,
   "id": "8635a17b-7db3-43c6-b459-dbdb1cfec58c",
   "metadata": {},
   "outputs": [
    {
     "name": "stdout",
     "output_type": "stream",
     "text": [
      "There are 4 as the previous proposal: {'YDR388W', 'YLR113W', 'YBL037W', 'YDR477W'}\n"
     ]
    }
   ],
   "source": [
    "# check overlap with previous proposal\n",
    "previous = {'YDL100C', 'YJL154C', 'YDR072C', 'YLL013C', 'YNL064C', 'YBL037W', 'YOL147C', 'YGL013C', 'YLR113W', 'YOR065W', 'YDR388W', 'YOL013C', 'YPL106C', 'YDR477W'}\n",
    "overlap_proteins = set()\n",
    "\n",
    "for node in general:\n",
    "    if node in previous:\n",
    "        overlap_proteins.add(node)\n",
    "\n",
    "for node in SA:\n",
    "    if node in previous:\n",
    "        overlap_proteins.add(node)   \n",
    "        \n",
    "n_overlap = len(overlap_proteins)\n",
    "\n",
    "print(f'There are {n_overlap} as the previous proposal: {overlap_proteins}')"
   ]
  },
  {
   "cell_type": "markdown",
   "id": "e3bd588d-b6ac-47d0-b15e-2e8ff68992dd",
   "metadata": {},
   "source": [
    "# Second set"
   ]
  },
  {
   "cell_type": "code",
   "execution_count": 7,
   "id": "7a4492a9-edb0-4692-946f-65846c9a9178",
   "metadata": {},
   "outputs": [],
   "source": [
    "# adjacent community directly connect to the target proteins, one represeentative each\n",
    "# n = 4 in general, n = 3 in SA\n",
    "# one each\n",
    "general_direct_adjacent = {'YOR065W', 'YPL106C', 'YDR477W', 'YDR072C', 'Q0130', 'YLL013C', 'YGR281W', 'YBL037W', 'YNL064C', 'YLR113W', 'YAL058W', 'YDR388W'}\n",
    "\n",
    "# ranked ajacent community with two representatives each\n",
    "# n = 4 in general, n = 3 in SA\n",
    "# two each, only return the second representatives here\n",
    "general_second_representatives = {'YHL007C', 'YML032C', 'YOL062C', 'YLR113W', 'YCL008C', 'YLR262C', 'YNL030W', 'YHL027W', 'YDL077C', 'YBL016W', 'YOL012C'}\n",
    "SA_second_representatives = {'YKL209C', 'YFL026W', 'YJR092W', 'YJL128C', 'YIL033C', 'YLR319C', 'YMR037C', 'YNL098C', 'YNL298W', 'YGR040W', 'YKL178C'}\n",
    "\n",
    "\n",
    "# select more ranked community - general partition n = 7, SA stays, cuz it makes no sense to expand\n",
    "# n = 4 in general, n = 3 in SA\n",
    "# one each\n",
    "more_ranked = {'YMR250W', 'YER095W', 'YBR010W', 'YLR025W', 'YBL037W', 'YPL106C', 'YGR281W', 'YGL026C', 'YGL045W', 'YNL064C', 'YDR477W', 'YDR072C', 'YLR113W', 'YNR001C', 'YAL058W', 'YDR388W'}\n",
    "\n",
    "# more focus on STE24('YJR117W')\n",
    "# Adjacent communities directly linked to STE24\n",
    "# return the second representatives\n",
    "STE24_second_representatives = ['YMR186W', 'Q0130', 'YJR121W', 'YGL187C', 'YNL064C']\n",
    "\n",
    "\n",
    "# all adjacent community\n",
    "# one each\n",
    "all_adj_no_select = {'YGL071W', 'YDR456W', 'YLR382C', 'YGL165C', 'YBR251W', 'YNL064C', 'YGR281W', 'YMR304C-A', 'YLR113W', 'YKR089C', 'YJL136W-A', 'YDR477W', 'YKR092C', 'YPL106C', 'YEL075W-A', 'YMR165C', 'YKL224C', 'YDL160C', 'YLR344W', 'YLL013C', 'YDR388W', 'YDL201W', 'YMR250W', 'YGL026C', 'YER095W', 'YBR010W', 'YOR065W', 'YBL037W', 'YAL058W', 'YBR082C', 'YJL129C', 'YDR072C', 'YLR025W', 'YNR001C', 'YOL147C', 'YER029C', 'YMR182W-A', 'YFR010W', 'Q0130', 'YIL133C', 'YGL045W', 'YGR220C', 'YHR219W'}\n",
    "\n"
   ]
  },
  {
   "cell_type": "code",
   "execution_count": 8,
   "id": "2efc97db-bccc-4477-b07a-310ab62e5662",
   "metadata": {},
   "outputs": [],
   "source": [
    "# proposed set\n",
    "# general_direct_adjacent + more_ranked + STE24_second_representatives\n",
    "second_set = {'YGR281W', 'YGL026C', 'YNR001C', 'YMR250W', 'Q0130', 'YAL058W', 'YGL187C', 'YJR121W', 'YMR186W'}"
   ]
  },
  {
   "cell_type": "markdown",
   "id": "f4af78e0-9dc2-442e-b115-ba766a58b172",
   "metadata": {},
   "source": [
    "# Third set"
   ]
  },
  {
   "cell_type": "code",
   "execution_count": 9,
   "id": "ef1e522c-58a9-4ae6-ac87-b21040161290",
   "metadata": {},
   "outputs": [],
   "source": [
    "# unions of general_second_representatives + SA_second_representatives\n",
    "third_set = {'YOL062C', 'YCL008C', 'YNL030W', 'YHL027W', 'YIL033C', 'YJR092W', 'YLR262C', 'YDL077C', 'YLR319C', 'YOL012C', 'YBL016W', 'YKL209C', 'YHL007C', 'YML032C', 'YJL128C', 'YGR040W'}"
   ]
  },
  {
   "cell_type": "markdown",
   "id": "e155d865-e722-46a0-b63e-ccd732ab6810",
   "metadata": {},
   "source": [
    "# Union results and check shortest paths to the targets"
   ]
  },
  {
   "cell_type": "code",
   "execution_count": 13,
   "id": "a5c13ecd-497c-441f-9dca-dc1b8015fe60",
   "metadata": {},
   "outputs": [
    {
     "name": "stdout",
     "output_type": "stream",
     "text": [
      "Current set of potein: {'YGR281W', 'Q0130', 'YAL058W'}\n"
     ]
    }
   ],
   "source": [
    "# make all the proposed ones in to a set of proteins to filter\n",
    "proposed = [previous, first_set]\n",
    "filter = set()\n",
    "\n",
    "for s in proposed:\n",
    "    for protein in s:\n",
    "        filter.add(protein)\n",
    "\n",
    "# union all the result\n",
    "# current_found = [general_direct_adjacent, general_second_representatives, SA_second_representatives, more_ranked]\n",
    "current_found = [general_direct_adjacent]\n",
    "\n",
    "current_set = set()\n",
    "for found_ls in current_found:\n",
    "    for protein in found_ls:\n",
    "        if protein not in filter:\n",
    "            current_set.add(protein)\n",
    "\n",
    "print(f'Current set of potein: {current_set}')"
   ]
  },
  {
   "cell_type": "code",
   "execution_count": 11,
   "id": "eb433ffe-7402-4e28-8523-60f0f5947323",
   "metadata": {},
   "outputs": [
    {
     "name": "stdout",
     "output_type": "stream",
     "text": [
      "- STE24(YJR117W):\n",
      "Shortest path to Q0130: ['YJR117W', 'YCL018W', 'Q0130']\n",
      "\n",
      "- RCE1(YMR274C):\n",
      "Shortest path to Q0130: ['YMR274C', 'YKR087C', 'Q0130']\n",
      "\n",
      "- RAM1(YDL090C):\n",
      "Shortest path to Q0130: ['YDL090C', 'YOL121C', 'Q0130']\n",
      "\n"
     ]
    }
   ],
   "source": [
    "# shortest path to the target\n",
    "for target_protein in all_proteins:\n",
    "    print('- ' + print_protein(target_protein) + ':')\n",
    "    for rep in current_set:\n",
    "        path = nx.shortest_path(G, source=target_protein, target=rep, weight=None, method='dijkstra')\n",
    "        print(f\"Shortest path to {rep}: {path}\")\n",
    "    print('')"
   ]
  },
  {
   "cell_type": "code",
   "execution_count": 12,
   "id": "fee4b561-e7fd-4a61-8645-6da05df33d33",
   "metadata": {},
   "outputs": [
    {
     "name": "stdout",
     "output_type": "stream",
     "text": [
      "- STE24(YJR117W):\n",
      "Shortest path to YLR025W: ['YJR117W', 'YAL002W', 'YLR025W']\n",
      "\n",
      "- RCE1(YMR274C):\n",
      "Shortest path to YLR025W: ['YMR274C', 'YCR027C', 'YLR025W']\n",
      "\n",
      "- RAM1(YDL090C):\n",
      "Shortest path to YLR025W: ['YDL090C', 'YAL048C', 'YLR025W']\n",
      "\n"
     ]
    }
   ],
   "source": [
    "current_set = ['YLR025W']\n",
    "for target_protein in all_proteins:\n",
    "    print('- ' + print_protein(target_protein) + ':')\n",
    "    for rep in current_set:\n",
    "        path = nx.shortest_path(G, source=target_protein, target=rep, weight=None, method='dijkstra')\n",
    "        print(f\"Shortest path to {rep}: {path}\")\n",
    "    print('')"
   ]
  },
  {
   "cell_type": "markdown",
   "id": "cc1977eb-09c5-4b6b-975d-7b29dd75a850",
   "metadata": {},
   "source": [
    "# First trial: with v.s. without largest component"
   ]
  },
  {
   "cell_type": "code",
   "execution_count": 28,
   "id": "b013c531-2981-462b-a901-05b0b91f41a8",
   "metadata": {},
   "outputs": [
    {
     "name": "stdout",
     "output_type": "stream",
     "text": [
      "For first set, overlap of w/o largest components: {'YGL013C', 'YDR388W', 'YBL037W', 'YDR477W', 'YLL013C', 'YPL106C', 'YOR065W', 'YJL154C', 'YDR072C', 'YLR113W'}\n",
      "num of oveerlap: len(overlap)\n",
      "num of found proteins with largest component: 12\n",
      "num of found proteins without largest component:14\n"
     ]
    }
   ],
   "source": [
    "first_with_lc = {'YAL058W', 'YGL013C', 'YLR113W', 'YJL154C', 'YDR388W', 'YLL013C', 'YDR072C', 'YOR065W', 'YPL106C', 'YBL037W', 'YDR477W', 'YJR121W'}\n",
    "first_without_lc = previous\n",
    "\n",
    "overlap = set()\n",
    "\n",
    "for p1 in first_with_lc:\n",
    "    for p2 in first_without_lc:\n",
    "        if p1 == p2:\n",
    "            overlap.add(p1)\n",
    "\n",
    "print(f'For first set, overlap of w/o largest components: {overlap}')\n",
    "print(f'num of oveerlap: len(overlap)')\n",
    "print(f'num of found proteins with largest component: {len(first_with_lc)}')\n",
    "print(f'num of found proteins without largest component:{len(first_without_lc)}')\n",
    "            "
   ]
  },
  {
   "cell_type": "code",
   "execution_count": null,
   "id": "1749d17c-647c-4d4c-a3f3-19cb9fab289b",
   "metadata": {},
   "outputs": [],
   "source": [
    "'''\n",
    "First set:\n",
    "- Louvain 100\n",
    "- direct link\n",
    "- all proteins in a same community\n",
    "- total num of communities: 800\n",
    "- total num of adjacent communities: 17\n",
    "- num of selected adjacent communities: 5\n",
    "\n",
    "Second set:\n",
    "- Louvain 100\n",
    "- rank connection score\n",
    "- SA on home\n",
    "- all proteins in a same home communities\n",
    "- total num of communities: (louvain) 20; (SA) 13\n",
    "- total num of adjacent communities: (louvain) 18; (SA) 7\n",
    "- num of selected adjacent communities: (louvain) 4; (SA) 3\n",
    "'''"
   ]
  }
 ],
 "metadata": {
  "kernelspec": {
   "display_name": "Python 3 (ipykernel)",
   "language": "python",
   "name": "python3"
  },
  "language_info": {
   "codemirror_mode": {
    "name": "ipython",
    "version": 3
   },
   "file_extension": ".py",
   "mimetype": "text/x-python",
   "name": "python",
   "nbconvert_exporter": "python",
   "pygments_lexer": "ipython3",
   "version": "3.9.1"
  }
 },
 "nbformat": 4,
 "nbformat_minor": 5
}
