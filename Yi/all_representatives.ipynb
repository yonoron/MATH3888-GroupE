{
 "cells": [
  {
   "cell_type": "markdown",
   "id": "e28a15c8-5f3b-4173-a480-b80757c2b9dd",
   "metadata": {},
   "source": [
    "# Proteins\n",
    "\n",
    "Standard name - systematic name\n",
    "\n",
    "STE24 - YJR117W\n",
    "\n",
    "RCE1  - YMR274C\n",
    "\n",
    "RAM1  - YDL090C\n",
    "\n",
    "Do not form complexes with each other\n",
    "\n",
    "\n",
    "Found three useful ones:\n",
    "\n",
    "- YDR388W (Cytoskeleton one): community 12; betweenness, information, PCA; general partition\n",
    "\n",
    "- YLR025W (Endosomal one): community 8; information, subgraph, PCA; general partition\n",
    "\n",
    "- YMR037C (DNA binding transcription): community 0, betweenness, information; SA partition"
   ]
  },
  {
   "cell_type": "code",
   "execution_count": 17,
   "id": "18c7cef1-0e8e-43e0-82e0-5bd112121034",
   "metadata": {},
   "outputs": [],
   "source": [
    "import networkx as nx"
   ]
  },
  {
   "cell_type": "code",
   "execution_count": 31,
   "id": "c2e72822-88f0-4e6a-80c9-ee04b29c869b",
   "metadata": {},
   "outputs": [],
   "source": [
    "'''\n",
    "STE24 - YJR117W\n",
    "RCE1  - YMR274C\n",
    "RAM1  - YDL090C\n",
    "'''\n",
    "# Proteins that we focus on\n",
    "def print_protein(str):\n",
    "    if str == 'YJR117W':\n",
    "        return 'STE24(YJR117W)'\n",
    "    elif str == 'YMR274C':\n",
    "        return 'RCE1(YMR274C)'\n",
    "    elif str == 'YDL090C':\n",
    "        return 'RAM1(YDL090C)'"
   ]
  },
  {
   "cell_type": "code",
   "execution_count": 18,
   "id": "40b11546-7def-4f94-9cf9-1945fe179a65",
   "metadata": {},
   "outputs": [],
   "source": [
    "G = nx.read_weighted_edgelist(\"cleanData.txt\",comments=\"#\",nodetype=str)"
   ]
  },
  {
   "cell_type": "code",
   "execution_count": 25,
   "id": "45a80840-afe3-456b-9fc2-ddeb83715c0b",
   "metadata": {},
   "outputs": [],
   "source": [
    "# Store proteins into a list\n",
    "all_proteins = ['YJR117W', 'YMR274C', 'YDL090C']"
   ]
  },
  {
   "cell_type": "markdown",
   "id": "b8cabfb7-2e5d-4371-b452-8079becb9e55",
   "metadata": {},
   "source": [
    "# First set"
   ]
  },
  {
   "cell_type": "code",
   "execution_count": 19,
   "id": "f189c606-ec9e-4c58-a735-bab92fd800f2",
   "metadata": {},
   "outputs": [
    {
     "name": "stdout",
     "output_type": "stream",
     "text": [
      "{'YBL037W', 'YGR152C', 'YBR010W', 'YDR477W', 'YFL026W', 'YDR388W', 'YLR025W', 'YNL098C', 'YKL178C', 'YGL045W', 'YMR037C', 'YER095W', 'YNL298W', 'YLR113W'}\n"
     ]
    }
   ],
   "source": [
    "# Union all findings\n",
    "general = {'YER095W', 'YBR010W', 'YLR025W', 'YBL037W', 'YGL045W', 'YDR477W', 'YLR113W', 'YDR388W'}\n",
    "SA = {'YGR152C', 'YFL026W', 'YLR113W', 'YMR037C', 'YNL098C', 'YNL298W', 'YKL178C'}\n",
    "\n",
    "# first set\n",
    "# general n = 4, SA n = 3 number of chosen adjacent communities \n",
    "# only choose one representative each community\n",
    "first_set = general.union(SA)\n",
    "\n",
    "print(first_set)"
   ]
  },
  {
   "cell_type": "code",
   "execution_count": 20,
   "id": "8635a17b-7db3-43c6-b459-dbdb1cfec58c",
   "metadata": {},
   "outputs": [
    {
     "name": "stdout",
     "output_type": "stream",
     "text": [
      "There are 4 as the previous proposal: {'YBL037W', 'YDR477W', 'YLR113W', 'YDR388W'}\n"
     ]
    }
   ],
   "source": [
    "# check overlap with previous proposal\n",
    "previous = {'YDL100C', 'YJL154C', 'YDR072C', 'YLL013C', 'YNL064C', 'YBL037W', 'YOL147C', 'YGL013C', 'YLR113W', 'YOR065W', 'YDR388W', 'YOL013C', 'YPL106C', 'YDR477W'}\n",
    "overlap_proteins = set()\n",
    "\n",
    "for node in general:\n",
    "    if node in previous:\n",
    "        overlap_proteins.add(node)\n",
    "\n",
    "for node in SA:\n",
    "    if node in previous:\n",
    "        overlap_proteins.add(node)   \n",
    "        \n",
    "n_overlap = len(overlap_proteins)\n",
    "\n",
    "print(f'There are {n_overlap} as the previous proposal: {overlap_proteins}')"
   ]
  },
  {
   "cell_type": "markdown",
   "id": "e3bd588d-b6ac-47d0-b15e-2e8ff68992dd",
   "metadata": {},
   "source": [
    "# Second set"
   ]
  },
  {
   "cell_type": "code",
   "execution_count": 44,
   "id": "a5c13ecd-497c-441f-9dca-dc1b8015fe60",
   "metadata": {},
   "outputs": [
    {
     "name": "stdout",
     "output_type": "stream",
     "text": [
      "Second set of potein: {'YGR281W', 'YGL026C', 'YNR001C', 'YMR250W', 'Q0130', 'YAL058W'}\n"
     ]
    }
   ],
   "source": [
    "second_set = set()\n",
    "\n",
    "# adjacent community directly connect to the target proteins, one represeentative each\n",
    "# n = 4 in general, n = 3 in SA\n",
    "# one each\n",
    "general_direct_adjacent = {'YOR065W', 'YPL106C', 'YDR477W', 'YDR072C', 'Q0130', 'YLL013C', 'YGR281W', 'YBL037W', 'YNL064C', 'YLR113W', 'YAL058W', 'YDR388W'}\n",
    "\n",
    "# ranked ajacent community with two representatives each\n",
    "# n = 4 in general, n = 3 in SA\n",
    "# two each, only return the second representatives here\n",
    "general_second_representatives = {'YHL007C', 'YML032C', 'YOL062C', 'YLR113W', 'YCL008C', 'YLR262C', 'YNL030W', 'YHL027W', 'YDL077C', 'YBL016W', 'YOL012C'}\n",
    "SA_second_representatives = {'YKL209C', 'YFL026W', 'YJR092W', 'YJL128C', 'YIL033C', 'YLR319C', 'YMR037C', 'YNL098C', 'YNL298W', 'YGR040W', 'YKL178C'}\n",
    "\n",
    "\n",
    "# select more ranked community - general partition n = 7, SA stays, cuz it makes no sense to expand\n",
    "# n = 4 in general, n = 3 in SA\n",
    "# one each\n",
    "more_ranked = {'YMR250W', 'YER095W', 'YBR010W', 'YLR025W', 'YBL037W', 'YPL106C', 'YGR281W', 'YGL026C', 'YGL045W', 'YNL064C', 'YDR477W', 'YDR072C', 'YLR113W', 'YNR001C', 'YAL058W', 'YDR388W'}\n",
    "\n",
    "\n",
    "# union all the results\n",
    "# second_found = [general_direct_adjacent, general_second_representatives, SA_second_representatives, more_ranked]\n",
    "second_found = [general_direct_adjacent, more_ranked]\n",
    "\n",
    "for found_ls in second_found:\n",
    "    for protein in found_ls:\n",
    "        if (protein not in first_set) and (protein not in previous):\n",
    "            second_set.add(protein)\n",
    "\n",
    "print(f'Second set of potein: {second_set}')"
   ]
  },
  {
   "cell_type": "code",
   "execution_count": 43,
   "id": "eb433ffe-7402-4e28-8523-60f0f5947323",
   "metadata": {},
   "outputs": [
    {
     "name": "stdout",
     "output_type": "stream",
     "text": [
      "- STE24(YJR117W):\n",
      "Shortest path to YGR281W: ['YJR117W', 'YAL005C', 'YGR281W']\n",
      "Shortest path to Q0130: ['YJR117W', 'YCL018W', 'Q0130']\n",
      "Shortest path to YAL058W: ['YJR117W', 'YAL058W']\n",
      "\n",
      "- RCE1(YMR274C):\n",
      "Shortest path to YGR281W: ['YMR274C', 'YEL021W', 'YGR281W']\n",
      "Shortest path to Q0130: ['YMR274C', 'YKR087C', 'Q0130']\n",
      "Shortest path to YAL058W: ['YMR274C', 'YAL042W', 'YAL058W']\n",
      "\n",
      "- RAM1(YDL090C):\n",
      "Shortest path to YGR281W: ['YDL090C', 'YAL005C', 'YGR281W']\n",
      "Shortest path to Q0130: ['YDL090C', 'YOL121C', 'Q0130']\n",
      "Shortest path to YAL058W: ['YDL090C', 'YAL005C', 'YAL058W']\n",
      "\n"
     ]
    }
   ],
   "source": [
    "# shortest path to the target\n",
    "for target_protein in all_proteins:\n",
    "    print('- ' + print_protein(target_protein) + ':')\n",
    "    for rep in second_set:\n",
    "        path = nx.shortest_path(G, source=target_protein, target=rep, weight=None, method='dijkstra')\n",
    "        print(f\"Shortest path to {rep}: {path}\")\n",
    "    print('')"
   ]
  },
  {
   "cell_type": "code",
   "execution_count": null,
   "id": "fee4b561-e7fd-4a61-8645-6da05df33d33",
   "metadata": {},
   "outputs": [],
   "source": []
  }
 ],
 "metadata": {
  "kernelspec": {
   "display_name": "Python 3 (ipykernel)",
   "language": "python",
   "name": "python3"
  },
  "language_info": {
   "codemirror_mode": {
    "name": "ipython",
    "version": 3
   },
   "file_extension": ".py",
   "mimetype": "text/x-python",
   "name": "python",
   "nbconvert_exporter": "python",
   "pygments_lexer": "ipython3",
   "version": "3.9.1"
  }
 },
 "nbformat": 4,
 "nbformat_minor": 5
}
