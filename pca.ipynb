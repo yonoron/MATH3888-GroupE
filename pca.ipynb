{
 "cells": [
  {
   "cell_type": "code",
   "execution_count": 2,
   "id": "c62c5d71",
   "metadata": {},
   "outputs": [],
   "source": [
    "# Import required packages\n",
    "import numpy as np\n",
    "import pandas as pd\n",
    "import matplotlib.pyplot as plt\n",
    "from sklearn.decomposition import PCA"
   ]
  },
  {
   "cell_type": "markdown",
   "id": "813fad90",
   "metadata": {},
   "source": [
    "We find that Eigenvector and Subgraph are essentially perfectly correlated. So we choose to only keep eigenvector since it is marginally cheaper to compute."
   ]
  },
  {
   "cell_type": "code",
   "execution_count": 2,
   "id": "af22b331",
   "metadata": {},
   "outputs": [],
   "source": [
    "# Import dataset\n",
    "normalised_centralities = pd.read_excel(\"~/MATH3888/Files/Datasets/normal_standardised.xlsx\")\n",
    "\n",
    "# Make dataframe without columns that are unrelated to the centrality measures\n",
    "data = normalised_centralities.drop(['Unnamed: 0','Subgraph'], axis=1)"
   ]
  },
  {
   "cell_type": "code",
   "execution_count": 3,
   "id": "6c6a8a33",
   "metadata": {},
   "outputs": [
    {
     "data": {
      "text/html": [
       "<div>\n",
       "<style scoped>\n",
       "    .dataframe tbody tr th:only-of-type {\n",
       "        vertical-align: middle;\n",
       "    }\n",
       "\n",
       "    .dataframe tbody tr th {\n",
       "        vertical-align: top;\n",
       "    }\n",
       "\n",
       "    .dataframe thead th {\n",
       "        text-align: right;\n",
       "    }\n",
       "</style>\n",
       "<table border=\"1\" class=\"dataframe\">\n",
       "  <thead>\n",
       "    <tr style=\"text-align: right;\">\n",
       "      <th></th>\n",
       "      <th>Degree</th>\n",
       "      <th>Closeness</th>\n",
       "      <th>Eigenvector</th>\n",
       "      <th>Betweenness</th>\n",
       "      <th>Information</th>\n",
       "    </tr>\n",
       "  </thead>\n",
       "  <tbody>\n",
       "    <tr>\n",
       "      <th>0</th>\n",
       "      <td>-0.255827</td>\n",
       "      <td>-1.004357</td>\n",
       "      <td>-0.340857</td>\n",
       "      <td>-2.392757</td>\n",
       "      <td>-0.871620</td>\n",
       "    </tr>\n",
       "    <tr>\n",
       "      <th>1</th>\n",
       "      <td>0.563683</td>\n",
       "      <td>0.530213</td>\n",
       "      <td>0.505454</td>\n",
       "      <td>0.313961</td>\n",
       "      <td>0.821233</td>\n",
       "    </tr>\n",
       "    <tr>\n",
       "      <th>2</th>\n",
       "      <td>-0.255827</td>\n",
       "      <td>0.254027</td>\n",
       "      <td>0.846720</td>\n",
       "      <td>0.743423</td>\n",
       "      <td>-0.220953</td>\n",
       "    </tr>\n",
       "    <tr>\n",
       "      <th>3</th>\n",
       "      <td>-0.951218</td>\n",
       "      <td>-0.101830</td>\n",
       "      <td>0.053197</td>\n",
       "      <td>-2.392757</td>\n",
       "      <td>-0.695312</td>\n",
       "    </tr>\n",
       "    <tr>\n",
       "      <th>4</th>\n",
       "      <td>0.605780</td>\n",
       "      <td>1.061621</td>\n",
       "      <td>1.081787</td>\n",
       "      <td>0.601960</td>\n",
       "      <td>0.853009</td>\n",
       "    </tr>\n",
       "    <tr>\n",
       "      <th>...</th>\n",
       "      <td>...</td>\n",
       "      <td>...</td>\n",
       "      <td>...</td>\n",
       "      <td>...</td>\n",
       "      <td>...</td>\n",
       "    </tr>\n",
       "    <tr>\n",
       "      <th>4390</th>\n",
       "      <td>-1.283990</td>\n",
       "      <td>-2.087709</td>\n",
       "      <td>-2.083078</td>\n",
       "      <td>-2.392757</td>\n",
       "      <td>-1.637294</td>\n",
       "    </tr>\n",
       "    <tr>\n",
       "      <th>4391</th>\n",
       "      <td>-0.531975</td>\n",
       "      <td>-1.902794</td>\n",
       "      <td>-2.125411</td>\n",
       "      <td>-0.205167</td>\n",
       "      <td>-0.942268</td>\n",
       "    </tr>\n",
       "    <tr>\n",
       "      <th>4392</th>\n",
       "      <td>0.115125</td>\n",
       "      <td>-1.194414</td>\n",
       "      <td>-0.895968</td>\n",
       "      <td>0.317415</td>\n",
       "      <td>0.164793</td>\n",
       "    </tr>\n",
       "    <tr>\n",
       "      <th>4393</th>\n",
       "      <td>-1.283990</td>\n",
       "      <td>-1.212059</td>\n",
       "      <td>-1.313679</td>\n",
       "      <td>0.015433</td>\n",
       "      <td>-1.583926</td>\n",
       "    </tr>\n",
       "    <tr>\n",
       "      <th>4394</th>\n",
       "      <td>-1.283990</td>\n",
       "      <td>-1.890681</td>\n",
       "      <td>-1.912737</td>\n",
       "      <td>-2.392757</td>\n",
       "      <td>-1.312573</td>\n",
       "    </tr>\n",
       "  </tbody>\n",
       "</table>\n",
       "<p>4395 rows × 5 columns</p>\n",
       "</div>"
      ],
      "text/plain": [
       "        Degree  Closeness  Eigenvector  Betweenness  Information\n",
       "0    -0.255827  -1.004357    -0.340857    -2.392757    -0.871620\n",
       "1     0.563683   0.530213     0.505454     0.313961     0.821233\n",
       "2    -0.255827   0.254027     0.846720     0.743423    -0.220953\n",
       "3    -0.951218  -0.101830     0.053197    -2.392757    -0.695312\n",
       "4     0.605780   1.061621     1.081787     0.601960     0.853009\n",
       "...        ...        ...          ...          ...          ...\n",
       "4390 -1.283990  -2.087709    -2.083078    -2.392757    -1.637294\n",
       "4391 -0.531975  -1.902794    -2.125411    -0.205167    -0.942268\n",
       "4392  0.115125  -1.194414    -0.895968     0.317415     0.164793\n",
       "4393 -1.283990  -1.212059    -1.313679     0.015433    -1.583926\n",
       "4394 -1.283990  -1.890681    -1.912737    -2.392757    -1.312573\n",
       "\n",
       "[4395 rows x 5 columns]"
      ]
     },
     "execution_count": 3,
     "metadata": {},
     "output_type": "execute_result"
    }
   ],
   "source": [
    "data"
   ]
  },
  {
   "cell_type": "markdown",
   "id": "aa76b476",
   "metadata": {},
   "source": [
    "From the sklearn.decomposition package we use the PCA function to begin to determine the significance of each centrality measure. Since we are interested in 6 measures, we keep the number of components parameter equal to 6. We then fit our data to the PCA model."
   ]
  },
  {
   "cell_type": "code",
   "execution_count": 4,
   "id": "36f873d3",
   "metadata": {},
   "outputs": [
    {
     "data": {
      "text/html": [
       "<style>#sk-container-id-1 {color: black;}#sk-container-id-1 pre{padding: 0;}#sk-container-id-1 div.sk-toggleable {background-color: white;}#sk-container-id-1 label.sk-toggleable__label {cursor: pointer;display: block;width: 100%;margin-bottom: 0;padding: 0.3em;box-sizing: border-box;text-align: center;}#sk-container-id-1 label.sk-toggleable__label-arrow:before {content: \"▸\";float: left;margin-right: 0.25em;color: #696969;}#sk-container-id-1 label.sk-toggleable__label-arrow:hover:before {color: black;}#sk-container-id-1 div.sk-estimator:hover label.sk-toggleable__label-arrow:before {color: black;}#sk-container-id-1 div.sk-toggleable__content {max-height: 0;max-width: 0;overflow: hidden;text-align: left;background-color: #f0f8ff;}#sk-container-id-1 div.sk-toggleable__content pre {margin: 0.2em;color: black;border-radius: 0.25em;background-color: #f0f8ff;}#sk-container-id-1 input.sk-toggleable__control:checked~div.sk-toggleable__content {max-height: 200px;max-width: 100%;overflow: auto;}#sk-container-id-1 input.sk-toggleable__control:checked~label.sk-toggleable__label-arrow:before {content: \"▾\";}#sk-container-id-1 div.sk-estimator input.sk-toggleable__control:checked~label.sk-toggleable__label {background-color: #d4ebff;}#sk-container-id-1 div.sk-label input.sk-toggleable__control:checked~label.sk-toggleable__label {background-color: #d4ebff;}#sk-container-id-1 input.sk-hidden--visually {border: 0;clip: rect(1px 1px 1px 1px);clip: rect(1px, 1px, 1px, 1px);height: 1px;margin: -1px;overflow: hidden;padding: 0;position: absolute;width: 1px;}#sk-container-id-1 div.sk-estimator {font-family: monospace;background-color: #f0f8ff;border: 1px dotted black;border-radius: 0.25em;box-sizing: border-box;margin-bottom: 0.5em;}#sk-container-id-1 div.sk-estimator:hover {background-color: #d4ebff;}#sk-container-id-1 div.sk-parallel-item::after {content: \"\";width: 100%;border-bottom: 1px solid gray;flex-grow: 1;}#sk-container-id-1 div.sk-label:hover label.sk-toggleable__label {background-color: #d4ebff;}#sk-container-id-1 div.sk-serial::before {content: \"\";position: absolute;border-left: 1px solid gray;box-sizing: border-box;top: 0;bottom: 0;left: 50%;z-index: 0;}#sk-container-id-1 div.sk-serial {display: flex;flex-direction: column;align-items: center;background-color: white;padding-right: 0.2em;padding-left: 0.2em;position: relative;}#sk-container-id-1 div.sk-item {position: relative;z-index: 1;}#sk-container-id-1 div.sk-parallel {display: flex;align-items: stretch;justify-content: center;background-color: white;position: relative;}#sk-container-id-1 div.sk-item::before, #sk-container-id-1 div.sk-parallel-item::before {content: \"\";position: absolute;border-left: 1px solid gray;box-sizing: border-box;top: 0;bottom: 0;left: 50%;z-index: -1;}#sk-container-id-1 div.sk-parallel-item {display: flex;flex-direction: column;z-index: 1;position: relative;background-color: white;}#sk-container-id-1 div.sk-parallel-item:first-child::after {align-self: flex-end;width: 50%;}#sk-container-id-1 div.sk-parallel-item:last-child::after {align-self: flex-start;width: 50%;}#sk-container-id-1 div.sk-parallel-item:only-child::after {width: 0;}#sk-container-id-1 div.sk-dashed-wrapped {border: 1px dashed gray;margin: 0 0.4em 0.5em 0.4em;box-sizing: border-box;padding-bottom: 0.4em;background-color: white;}#sk-container-id-1 div.sk-label label {font-family: monospace;font-weight: bold;display: inline-block;line-height: 1.2em;}#sk-container-id-1 div.sk-label-container {text-align: center;}#sk-container-id-1 div.sk-container {/* jupyter's `normalize.less` sets `[hidden] { display: none; }` but bootstrap.min.css set `[hidden] { display: none !important; }` so we also need the `!important` here to be able to override the default hidden behavior on the sphinx rendered scikit-learn.org. See: https://github.com/scikit-learn/scikit-learn/issues/21755 */display: inline-block !important;position: relative;}#sk-container-id-1 div.sk-text-repr-fallback {display: none;}</style><div id=\"sk-container-id-1\" class=\"sk-top-container\"><div class=\"sk-text-repr-fallback\"><pre>PCA(n_components=5)</pre><b>In a Jupyter environment, please rerun this cell to show the HTML representation or trust the notebook. <br />On GitHub, the HTML representation is unable to render, please try loading this page with nbviewer.org.</b></div><div class=\"sk-container\" hidden><div class=\"sk-item\"><div class=\"sk-estimator sk-toggleable\"><input class=\"sk-toggleable__control sk-hidden--visually\" id=\"sk-estimator-id-1\" type=\"checkbox\" checked><label for=\"sk-estimator-id-1\" class=\"sk-toggleable__label sk-toggleable__label-arrow\">PCA</label><div class=\"sk-toggleable__content\"><pre>PCA(n_components=5)</pre></div></div></div></div></div>"
      ],
      "text/plain": [
       "PCA(n_components=5)"
      ]
     },
     "execution_count": 4,
     "metadata": {},
     "output_type": "execute_result"
    }
   ],
   "source": [
    "pca = PCA(n_components = 5)\n",
    "pca.fit(data)"
   ]
  },
  {
   "cell_type": "code",
   "execution_count": 5,
   "id": "bfd376e6",
   "metadata": {},
   "outputs": [
    {
     "data": {
      "text/plain": [
       "array([3.9615879 , 0.61651657, 0.30331731, 0.06619867, 0.05351746])"
      ]
     },
     "execution_count": 5,
     "metadata": {},
     "output_type": "execute_result"
    }
   ],
   "source": [
    "# Eigenvalues of Component Vectors\n",
    "component_eigenvalues = pca.explained_variance_\n",
    "component_eigenvalues"
   ]
  },
  {
   "cell_type": "code",
   "execution_count": 6,
   "id": "f934ff43",
   "metadata": {},
   "outputs": [
    {
     "data": {
      "text/plain": [
       "array([0.792, 0.123, 0.061, 0.013, 0.011])"
      ]
     },
     "execution_count": 6,
     "metadata": {},
     "output_type": "execute_result"
    }
   ],
   "source": [
    "# Percentage of Variance Explained by Each Component Vector\n",
    "explained_variance = pca.explained_variance_ratio_\n",
    "explained_variance.round(3)"
   ]
  },
  {
   "cell_type": "code",
   "execution_count": 7,
   "id": "d52f825a",
   "metadata": {},
   "outputs": [
    {
     "data": {
      "text/plain": [
       "array([[-0.46726302, -0.47557488, -0.44408134, -0.35869957, -0.47918701],\n",
       "       [ 0.05405231, -0.2971279 , -0.43147515,  0.85005276,  0.00573143],\n",
       "       [ 0.58893795, -0.2184966 , -0.52894292, -0.3851454 ,  0.42106263],\n",
       "       [ 0.63759091, -0.30582864,  0.32058138,  0.01952789, -0.62991501],\n",
       "       [ 0.15929077,  0.73774767, -0.48380566,  0.00515775, -0.44301276]])"
      ]
     },
     "execution_count": 7,
     "metadata": {},
     "output_type": "execute_result"
    }
   ],
   "source": [
    "# Eigenvectors Corresponding to Each of the Components\n",
    "vectors = pca.components_\n",
    "vectors"
   ]
  },
  {
   "cell_type": "markdown",
   "id": "df5121ec",
   "metadata": {},
   "source": [
    "Since the first component explains 79% of the variance, we will only consider it. We now calculate the weight of each centrality measure contributing to the first principal component."
   ]
  },
  {
   "cell_type": "code",
   "execution_count": 8,
   "id": "acd29f65",
   "metadata": {},
   "outputs": [
    {
     "data": {
      "text/plain": [
       "array([[0.21002418, 0.21376018, 0.19960454, 0.16122736, 0.21538374],\n",
       "       [0.03299011, 0.1813481 , 0.26334518, 0.5188185 , 0.0034981 ],\n",
       "       [0.27487256, 0.10197801, 0.24687132, 0.17975731, 0.19652081],\n",
       "       [0.33321642, 0.15983152, 0.16754157, 0.01020562, 0.32920486],\n",
       "       [0.08709103, 0.403358  , 0.26451711, 0.00281996, 0.2422139 ]])"
      ]
     },
     "execution_count": 8,
     "metadata": {},
     "output_type": "execute_result"
    }
   ],
   "source": [
    "weights = np.abs(vectors) / np.sum(np.abs(vectors), axis=1 ,keepdims=True)\n",
    "weights"
   ]
  },
  {
   "cell_type": "code",
   "execution_count": 9,
   "id": "113798a9",
   "metadata": {},
   "outputs": [
    {
     "data": {
      "text/plain": [
       "array([[0.21002418, 0.21376018, 0.19960454, 0.16122736, 0.21538374]])"
      ]
     },
     "execution_count": 9,
     "metadata": {},
     "output_type": "execute_result"
    }
   ],
   "source": [
    "#Taking weights of only the first components:\n",
    "weights[:1]"
   ]
  },
  {
   "cell_type": "markdown",
   "id": "f1b3a666",
   "metadata": {},
   "source": [
    "Therefore our completed index is as follows:\n",
    "$$ 0.21*degree + 0.21*closeness + 0.20*eigenvector + 0.16*betweenness + 0.22*information $$"
   ]
  },
  {
   "cell_type": "code",
   "execution_count": 3,
   "id": "d709fd49",
   "metadata": {},
   "outputs": [],
   "source": [
    "top = np.array([0.467,0.475,0.444,0.359,0.479])\n",
    "res = top / np.sum(top)"
   ]
  },
  {
   "cell_type": "code",
   "execution_count": 4,
   "id": "5ff0cdc5",
   "metadata": {},
   "outputs": [
    {
     "data": {
      "text/plain": [
       "array([0.20998201, 0.21357914, 0.19964029, 0.16142086, 0.2153777 ])"
      ]
     },
     "execution_count": 4,
     "metadata": {},
     "output_type": "execute_result"
    }
   ],
   "source": []
  },
  {
   "cell_type": "code",
   "execution_count": null,
   "id": "2e62c7ff",
   "metadata": {},
   "outputs": [],
   "source": []
  }
 ],
 "metadata": {
  "kernelspec": {
   "display_name": "Python 3 (ipykernel)",
   "language": "python",
   "name": "python3"
  },
  "language_info": {
   "codemirror_mode": {
    "name": "ipython",
    "version": 3
   },
   "file_extension": ".py",
   "mimetype": "text/x-python",
   "name": "python",
   "nbconvert_exporter": "python",
   "pygments_lexer": "ipython3",
   "version": "3.11.4"
  }
 },
 "nbformat": 4,
 "nbformat_minor": 5
}
