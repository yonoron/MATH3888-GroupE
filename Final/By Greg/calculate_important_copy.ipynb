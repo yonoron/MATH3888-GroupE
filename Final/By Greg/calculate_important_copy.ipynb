{
 "cells": [
  {
   "cell_type": "code",
   "execution_count": 1,
   "metadata": {},
   "outputs": [],
   "source": [
    "import pandas as pd\n",
    "import networkx as nx\n",
    "import numpy as np\n",
    "import matplotlib.pyplot as plt\n",
    "from automatic_centralities import *"
   ]
  },
  {
   "cell_type": "code",
   "execution_count": 2,
   "metadata": {},
   "outputs": [],
   "source": [
    "def generate_com_from_df(df):\n",
    "    coms = {}\n",
    "    for row, node in df.iterrows():\n",
    "        if node[1] not in coms:\n",
    "            coms[node[1]] = []\n",
    "        coms[node[1]].append(node[0])\n",
    "    return coms\n",
    "\n",
    "def generate_com_from_dict(dict):\n",
    "    coms = {}\n",
    "    for node, com in dict.items():\n",
    "        if com not in coms:\n",
    "            coms[com] =[]\n",
    "        coms[com].append(node)\n",
    "    return coms\n",
    "\n",
    "def generate_node_dict(coms=dict):\n",
    "    node_dict = {}\n",
    "    for key, value in coms.items():\n",
    "        for node in value:\n",
    "            node_dict[node] = key\n",
    "\n",
    "    return node_dict"
   ]
  },
  {
   "cell_type": "code",
   "execution_count": 3,
   "metadata": {},
   "outputs": [],
   "source": [
    "G = nx.read_edgelist('largestComponentData_without_weight.txt', nodetype=str, comments='#')\n",
    "partition = pd.read_csv('partition_louvain.txt', delimiter=' ', names = [0, 1])\n",
    "coms = generate_com_from_df(partition)"
   ]
  },
  {
   "cell_type": "code",
   "execution_count": 4,
   "metadata": {},
   "outputs": [
    {
     "name": "stdout",
     "output_type": "stream",
     "text": [
      "0: ['YER095W', 'YML032C', 'YMR190C']\n",
      "5: ['YBR010W', 'YOL012C', 'YNL030W']\n",
      "8: ['YLR025W', 'YCL008C', 'YPL084W']\n",
      "12: ['YDR388W', 'YDL077C', 'YAL030W']\n"
     ]
    }
   ],
   "source": [
    "for com in coms:\n",
    "    if com not in [5, 12, 0, 8]:\n",
    "        continue\n",
    "    H = G.subgraph(coms[com])\n",
    "    ls = centrality_calculater(H)\n",
    "    print(f'{com}: {[tup[0] for tup in ls[0:3]]}')"
   ]
  },
  {
   "cell_type": "code",
   "execution_count": 9,
   "metadata": {},
   "outputs": [],
   "source": [
    "partition = pd.read_csv('LOUVAIN_SA_in_com_11_final.csv', names=[0, 1])\n",
    "coms = generate_com_from_df(partition)"
   ]
  },
  {
   "cell_type": "code",
   "execution_count": 10,
   "metadata": {},
   "outputs": [
    {
     "name": "stdout",
     "output_type": "stream",
     "text": [
      "0: ['YNL098C', 'YMR037C', 'YIL033C']\n",
      "2: ['YLR113W', 'YGR040W', 'YHR030C']\n",
      "11: ['YGR152C', 'YNL298W', 'YJR092W']\n"
     ]
    }
   ],
   "source": [
    "for com in coms:\n",
    "    if com not in [2, 11, 0]:\n",
    "        continue\n",
    "    H = G.subgraph(coms[com])\n",
    "    ls = centrality_calculater(H)\n",
    "    print(f'{com}: {[tup[0] for tup in ls[0:3]]}')"
   ]
  }
 ],
 "metadata": {
  "kernelspec": {
   "display_name": "Python 3",
   "language": "python",
   "name": "python3"
  },
  "language_info": {
   "codemirror_mode": {
    "name": "ipython",
    "version": 3
   },
   "file_extension": ".py",
   "mimetype": "text/x-python",
   "name": "python",
   "nbconvert_exporter": "python",
   "pygments_lexer": "ipython3",
   "version": "3.11.6"
  }
 },
 "nbformat": 4,
 "nbformat_minor": 2
}
