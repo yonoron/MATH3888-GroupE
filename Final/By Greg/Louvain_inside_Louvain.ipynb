{
 "cells": [
  {
   "cell_type": "code",
   "execution_count": 1,
   "metadata": {},
   "outputs": [],
   "source": [
    "import networkx as nx\n",
    "from community import community_louvain\n",
    "import random\n",
    "import matplotlib.colors as mcolors\n",
    "import numpy as np\n",
    "import pandas as pd\n",
    "\n",
    "def generate_com_from_df(df):\n",
    "    coms = {}\n",
    "    for row, node in df.iterrows():\n",
    "        if node[1] not in coms:\n",
    "            coms[node[1]] = []\n",
    "        coms[node[1]].append(node[0])\n",
    "    return coms\n",
    "\n",
    "def generate_com_from_dict(dict):\n",
    "    coms = {}\n",
    "    for node, com in dict.items():\n",
    "        if com not in coms:\n",
    "            coms[com] =[]\n",
    "        coms[com].append(node)\n",
    "    return coms\n",
    "\n",
    "def generate_node_dict(coms=dict):\n",
    "    node_dict = {}\n",
    "    for key, value in coms.items():\n",
    "        for node in value:\n",
    "            node_dict[node] = key\n",
    "\n",
    "    return node_dict\n",
    "\n",
    "def random_color_generator():\n",
    "    color = random.choice(list(mcolors.CSS4_COLORS.keys()))\n",
    "    return color\n",
    "\n",
    "def plot_coms(G, coms):\n",
    "    colour_map = []\n",
    "\n",
    "    colour_dict = {}\n",
    "    for com in coms:\n",
    "        colour_dict[com] = random_color_generator()\n",
    "\n",
    "    for node in G:\n",
    "        for com in coms:\n",
    "            if node in coms[com]:\n",
    "                colour_map.append(colour_dict[com])\n",
    "    nx.draw(G, node_color=colour_map)"
   ]
  },
  {
   "cell_type": "code",
   "execution_count": 10,
   "metadata": {},
   "outputs": [],
   "source": [
    "G0 = nx.read_edgelist(\"cleaned.txt\",comments=\"#\",nodetype=str)\n",
    "largest_cc = max(nx.connected_components(G0),key=len)\n",
    "G0 = G0.subgraph(largest_cc)"
   ]
  },
  {
   "cell_type": "code",
   "execution_count": 11,
   "metadata": {},
   "outputs": [],
   "source": [
    "partition = pd.read_csv('partition_louvain.txt', delimiter=' ', names = [0, 1])\n",
    "\n",
    "coms = generate_com_from_df(partition)\n",
    "node_dict = generate_node_dict(coms)\n",
    "\n",
    "target = [\"YDL090C\", 'YJR117W', 'YMR274C']\n",
    "target_nums = []\n",
    "for node in target:\n",
    "    target_nums.append(node_dict[node])\n",
    "\n",
    "target_num = np.unique(target_nums)[0]\n",
    "G = G0.subgraph(coms[target_num])\n",
    "number_of_communities = max(node_dict.values())+1 #We add one because the indexing starts at 0."
   ]
  },
  {
   "cell_type": "code",
   "execution_count": 14,
   "metadata": {},
   "outputs": [
    {
     "name": "stdout",
     "output_type": "stream",
     "text": [
      "[11, 11, 11]\n",
      "541\n",
      "20\n"
     ]
    }
   ],
   "source": [
    "target = [\"YDL090C\", 'YJR117W', 'YMR274C']\n",
    "target_nums = []\n",
    "for node in target:\n",
    "    target_nums.append(node_dict[node])\n",
    "print(target_nums)\n",
    "target_com = np.unique(target_nums)[0]\n",
    "print(len(coms[target_com]))\n",
    "print(number_of_communities)"
   ]
  },
  {
   "cell_type": "code",
   "execution_count": 15,
   "metadata": {},
   "outputs": [],
   "source": [
    "H = G.subgraph(coms[target_com])"
   ]
  },
  {
   "cell_type": "code",
   "execution_count": 20,
   "metadata": {},
   "outputs": [],
   "source": [
    "scores = []\n",
    "for i in range(1000):\n",
    "    node_dict2 = community_louvain.best_partition(H, random_state=i)\n",
    "    coms2 = generate_com_from_dict(node_dict2)\n",
    "    number_of_communities = max(node_dict2.values())+1 #We add one because the indexing starts at 0.\n",
    "    scores.append(nx.community.modularity(H, coms2.values()))"
   ]
  },
  {
   "cell_type": "code",
   "execution_count": 28,
   "metadata": {},
   "outputs": [
    {
     "name": "stdout",
     "output_type": "stream",
     "text": [
      "0.6976535156682518 84\n"
     ]
    }
   ],
   "source": [
    "print(max(scores), scores.index(max(scores)))"
   ]
  },
  {
   "cell_type": "code",
   "execution_count": 29,
   "metadata": {},
   "outputs": [],
   "source": [
    "node_dict2 = community_louvain.best_partition(H, random_state=84)\n",
    "coms2 = generate_com_from_dict(node_dict2)\n",
    "number_of_communities = max(node_dict2.values())+1 #We add one because the indexing starts at 0."
   ]
  },
  {
   "cell_type": "code",
   "execution_count": 30,
   "metadata": {},
   "outputs": [
    {
     "data": {
      "text/plain": [
       "0.6976535156682518"
      ]
     },
     "execution_count": 30,
     "metadata": {},
     "output_type": "execute_result"
    }
   ],
   "source": [
    "nx.community.modularity(H, coms2.values())"
   ]
  },
  {
   "cell_type": "code",
   "execution_count": 26,
   "metadata": {},
   "outputs": [],
   "source": [
    "node_df = pd.DataFrame.from_dict(node_dict2, orient='index')\n",
    "node_df.to_csv(f'inner_louvain_partition.csv', header=False)"
   ]
  }
 ],
 "metadata": {
  "kernelspec": {
   "display_name": "Python 3",
   "language": "python",
   "name": "python3"
  },
  "language_info": {
   "codemirror_mode": {
    "name": "ipython",
    "version": 3
   },
   "file_extension": ".py",
   "mimetype": "text/x-python",
   "name": "python",
   "nbconvert_exporter": "python",
   "pygments_lexer": "ipython3",
   "version": "3.11.6"
  },
  "orig_nbformat": 4
 },
 "nbformat": 4,
 "nbformat_minor": 2
}
