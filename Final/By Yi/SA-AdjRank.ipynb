{
 "cells": [
  {
   "cell_type": "markdown",
   "id": "bfbbc29a-cdec-4356-8e9b-2c34e932acb4",
   "metadata": {},
   "source": [
    "# Proteins\n",
    "\n",
    "Standard name - systematic name\n",
    "\n",
    "STE24 - YJR117W\n",
    "\n",
    "RCE1  - YMR274C\n",
    "\n",
    "RAM1  - YDL090C\n",
    "\n",
    "Do not form complexes with each other\n",
    "\n",
    "Found three useful ones:\n",
    "\n",
    "(first trial)\n",
    "- YDR388W (Cytoskeleton one):  community 15, betweenness -> not in human\n",
    "\n",
    "(second trial)\n",
    "- YDR388W (Cytoskeleton one): community 12; betweenness, information, PCA; general partition -> not in human\n",
    "\n",
    "- YLR025W (Endosomal one): community 8; information, subgraph, PCA; general partition\n",
    "\n",
    "- YMR037C (DNA binding transcription): community 0, betweenness, information; SA partition\n",
    "\n",
    "- YNL298W: communitty 11, information; SA partition"
   ]
  },
  {
   "cell_type": "markdown",
   "id": "9b36ebc9-2d5b-48b4-986f-b1ab98c89e49",
   "metadata": {},
   "source": [
    "# Data Preparation"
   ]
  },
  {
   "cell_type": "markdown",
   "id": "537b2d18-419e-4bdc-933e-59d025718c7d",
   "metadata": {},
   "source": [
    "## Packages"
   ]
  },
  {
   "cell_type": "code",
   "execution_count": 1,
   "id": "9240401c-967e-4220-a1f8-594eb2ca38f2",
   "metadata": {},
   "outputs": [],
   "source": [
    "import networkx as nx\n",
    "import numpy as np\n",
    "import matplotlib.pyplot as plt\n",
    "import plotly.express as px # for interactive plot\n",
    "import pandas as pd\n",
    "\n",
    "# for Louvain algo\n",
    "from networkx.algorithms import community\n",
    "from networkx.algorithms.community import greedy_modularity_communities\n",
    "from networkx.algorithms.community import k_clique_communities\n",
    "\n",
    "from community import community_louvain\n",
    "\n",
    "# for copying graph\n",
    "import copy\n",
    "\n",
    "\n",
    "# basic settings for plotting figures\n",
    "%matplotlib inline \n",
    "font = {'family' : 'DejaVu Sans',\n",
    "        'weight' : 'bold',\n",
    "        'size'   : 12}\n",
    "\n",
    "plt.rc('font', **font)"
   ]
  },
  {
   "cell_type": "markdown",
   "id": "6e31a889-89ba-40fd-8063-01666cad78c3",
   "metadata": {},
   "source": [
    "## Functions"
   ]
  },
  {
   "cell_type": "code",
   "execution_count": 2,
   "id": "5560cfbe-d429-43ce-b9c5-0bc3353dbde7",
   "metadata": {},
   "outputs": [],
   "source": [
    "'''\n",
    "STE24 - YJR117W\n",
    "RCE1  - YMR274C\n",
    "RAM1  - YDL090C\n",
    "'''\n",
    "# Proteins that we focus on\n",
    "def print_protein(str):\n",
    "    if str == 'YJR117W':\n",
    "        return 'STE24(YJR117W)'\n",
    "    elif str == 'YMR274C':\n",
    "        return 'RCE1(YMR274C)'\n",
    "    elif str == 'YDL090C':\n",
    "        return 'RAM1(YDL090C)'"
   ]
  },
  {
   "cell_type": "code",
   "execution_count": 3,
   "id": "1cc04ec2-61c9-4cc8-b935-d3f61308d879",
   "metadata": {},
   "outputs": [],
   "source": [
    "def centrality_calculater(G):\n",
    "    deg = nx.degree_centrality(G)\n",
    "    close = nx.closeness_centrality(G, u=None, distance=None, wf_improved=True)\n",
    "    eig = nx.eigenvector_centrality(G, max_iter=500, tol=1e-06, nstart=None, weight=None)\n",
    "    bet = nx.betweenness_centrality(G, k=None, normalized=True, weight=None, endpoints=False, seed=2013)\n",
    "    sub = nx.subgraph_centrality(G)\n",
    "    info = nx.information_centrality(G, weight=None, solver='lu')\n",
    "\n",
    "    names = list(deg.keys())\n",
    "    degree_list = np.array(list(deg.values()))\n",
    "    closeness_list = np.array(list(close.values()))\n",
    "    eigenvector_list = np.array(list(eig.values()))\n",
    "    betweenness_list = np.array(list(bet.values()))\n",
    "    subgraph_list = np.array(list(sub.values()))\n",
    "    information_list = np.array(list(info.values()))\n",
    "\n",
    "    centrality_df = pd.DataFrame()\n",
    "    centrality_df['Names'] = names\n",
    "    centrality_df['Degree'] = degree_list\n",
    "    centrality_df['Closeness'] = closeness_list\n",
    "    centrality_df['Eigenvector'] = eigenvector_list\n",
    "    centrality_df['Betweenness'] = betweenness_list\n",
    "    centrality_df['Subgraph'] = subgraph_list\n",
    "    centrality_df['Information'] = information_list\n",
    "\n",
    "\n",
    "    colnames = list(centrality_df.columns)\n",
    "    transformed = pd.DataFrame()\n",
    "    for col in colnames:\n",
    "        arr = np.array(centrality_df[col])\n",
    "        if col == \"Betweenness\":\n",
    "            arr += 1e-10\n",
    "            arr = np.log(arr)\n",
    "        elif col != \"Closeness\" and col != \"Information\" and col!= \"Names\":\n",
    "            arr += 1e-20\n",
    "            arr = np.log(arr)\n",
    "\n",
    "        transformed[col] = arr\n",
    "\n",
    "\n",
    "    importance = []\n",
    "    for i in range(len(list(transformed[\"Names\"]))):\n",
    "        importance_score = 0.21*transformed[\"Degree\"][i] + 0.21*transformed[\"Closeness\"][i] + 0.2*transformed[\"Eigenvector\"][i] + 0.16*transformed[\"Betweenness\"][i] + 0.22*transformed[\"Information\"][i]\n",
    "\n",
    "        importance.append(importance_score)\n",
    "\n",
    "    transformed[\"Importance\"] = importance\n",
    "\n",
    "    importance_dict = {}\n",
    "    for i in range(len(importance)):\n",
    "        importance_dict[transformed[\"Names\"][i]] = transformed[\"Importance\"][i]\n",
    "\n",
    "    # sorted_importance  = sorted(importance_dict.items(), key=lambda x: x[1], reverse=True)\n",
    "\n",
    "    return importance_dict"
   ]
  },
  {
   "cell_type": "code",
   "execution_count": 4,
   "id": "7d7bb2c0-1a63-4293-a493-23cb7a04aa83",
   "metadata": {},
   "outputs": [],
   "source": [
    "# find the second last value and its corresponding key in a dictionary\n",
    "def second_max(dict):\n",
    "    all_value = list( dict.values() )\n",
    "    all_value.sort(reverse=True)\n",
    "\n",
    "    second_largest_value = all_value[1]\n",
    "\n",
    "    for key, value in dict.items():\n",
    "        if value == second_largest_value:\n",
    "            return key, value  "
   ]
  },
  {
   "cell_type": "markdown",
   "id": "1877a5cc-1873-4b88-83a2-cd7a844b80f7",
   "metadata": {},
   "source": [
    "## Given proteins"
   ]
  },
  {
   "cell_type": "code",
   "execution_count": 5,
   "id": "c90357ed-4dee-4c5d-9edf-c7792d1941cb",
   "metadata": {},
   "outputs": [],
   "source": [
    "# Store proteins into a list\n",
    "all_proteins = ['YJR117W', 'YMR274C', 'YDL090C']"
   ]
  },
  {
   "cell_type": "markdown",
   "id": "45d69eef-8f02-48d8-b5b1-0ca53bbdea54",
   "metadata": {},
   "source": [
    "## Store and modify network data"
   ]
  },
  {
   "cell_type": "code",
   "execution_count": 6,
   "id": "09b4f658-824a-4385-9690-8efe5a5c1ce7",
   "metadata": {},
   "outputs": [],
   "source": [
    "# Store the network as G\n",
    "# Storing format - dictionary: { u: {v1: {'weight': 123.0}, v2: {'weight': 456.0} } }; u, v - str\n",
    "G = nx.read_weighted_edgelist(\"cleanData.txt\",comments=\"#\",nodetype=str)"
   ]
  },
  {
   "cell_type": "code",
   "execution_count": 7,
   "id": "538564cc-ce1d-4f3d-9145-1f939d26ba0b",
   "metadata": {},
   "outputs": [],
   "source": [
    "# Remove edges with confidence score <= 700\n",
    "threshold = 700\n",
    "for edge in G.edges:     \n",
    "    # edge (u, v), an edge between node u and node v\n",
    "    u = edge[0]\n",
    "    v = edge[1]\n",
    "    weight = G[u][v]['weight']\n",
    "\n",
    "    if weight <= threshold:\n",
    "        G.remove_edge(u,v)"
   ]
  },
  {
   "cell_type": "code",
   "execution_count": 8,
   "id": "7e19b2a4-35e6-41aa-81ae-70fa911fa4fe",
   "metadata": {},
   "outputs": [],
   "source": [
    "# only consider the largest component to get rid of the nodes with 0 degree\n",
    "largest_cc = max(nx.connected_components(G), key=len)\n",
    "G = G.subgraph(largest_cc)"
   ]
  },
  {
   "cell_type": "markdown",
   "id": "c30c160c-c216-416d-be38-5a6c034de7fc",
   "metadata": {},
   "source": [
    "# Community analysis"
   ]
  },
  {
   "cell_type": "markdown",
   "id": "3f14ae73-75f9-4d7b-9364-0888f89989de",
   "metadata": {},
   "source": [
    "## Similation Anealing"
   ]
  },
  {
   "cell_type": "code",
   "execution_count": 9,
   "id": "718016a6-f7a4-4630-a957-ef192b7cac9c",
   "metadata": {},
   "outputs": [],
   "source": [
    "# {protein1: community, protein2: community, ...} - {string : int}\n",
    "df = pd.read_csv('LOUVAIN_SA_in_com_11_final.csv', names = ['protein', 'community'])\n",
    "\n",
    "# save as a dicionary\n",
    "partition_SA = df.set_index(['protein'])['community'].to_dict()\n",
    "\n",
    "# get the list of protein and save as a subgraph\n",
    "G_SA = G.subgraph( list(partition_SA.keys()) )"
   ]
  },
  {
   "cell_type": "code",
   "execution_count": 10,
   "id": "6440a728-0340-44dd-a169-7e0f25789e9f",
   "metadata": {},
   "outputs": [
    {
     "name": "stdout",
     "output_type": "stream",
     "text": [
      "Total number of communities: 13\n"
     ]
    }
   ],
   "source": [
    "total_communities = set()\n",
    "for community in partition_SA.values():\n",
    "    total_communities.add(community)\n",
    "print(f'Total number of communities: {len(total_communities)}')"
   ]
  },
  {
   "cell_type": "markdown",
   "id": "189e1caf-5e6e-4fe0-b27e-75d77323c73e",
   "metadata": {},
   "source": [
    "## Communities of the chosen proteins"
   ]
  },
  {
   "cell_type": "code",
   "execution_count": 11,
   "id": "66ec3be7-f41f-483b-9a43-2b106c2290d1",
   "metadata": {},
   "outputs": [
    {
     "name": "stdout",
     "output_type": "stream",
     "text": [
      "STE24(YJR117W) is in community 10\n",
      "RCE1(YMR274C) is in community 10\n",
      "RAM1(YDL090C) is in community 10\n"
     ]
    }
   ],
   "source": [
    "home_community = set()\n",
    "\n",
    "for protein in all_proteins:\n",
    "    home_community.add(partition_SA[protein])\n",
    "    print(f'{print_protein(protein)} is in community {partition_SA[protein]}')"
   ]
  },
  {
   "cell_type": "markdown",
   "id": "4eed3896-5c9d-46d8-9774-f3e89664198b",
   "metadata": {},
   "source": [
    "## Adjacent communities"
   ]
  },
  {
   "cell_type": "code",
   "execution_count": 12,
   "id": "55810da1-361a-4b48-86f5-f866165a2dca",
   "metadata": {},
   "outputs": [
    {
     "name": "stdout",
     "output_type": "stream",
     "text": [
      "Number of adjacent communities: 7\n",
      "Adjacent communities are {0, 1, 2, 7, 8, 9, 11}\n"
     ]
    }
   ],
   "source": [
    "# get the list of proteins in a same community as the target ones (included target ones)\n",
    "proteins_in_target_community = ['YJR117W', 'YMR274C', 'YDL090C']\n",
    "for protein, community in partition_SA.items():\n",
    "    if community == partition_SA['YJR117W']:\n",
    "        proteins_in_target_community.append(protein)\n",
    "\n",
    "adjacent_communities = set() # {int}\n",
    "\n",
    "for protein in proteins_in_target_community:\n",
    "    neighbors = G_SA.neighbors(protein)\n",
    "    for neighbor in neighbors:\n",
    "        community = partition_SA[neighbor]\n",
    "\n",
    "        if community != partition_SA[protein]:\n",
    "            adjacent_communities.add(community)\n",
    "\n",
    "print(f'Number of adjacent communities: {len(adjacent_communities)}')\n",
    "print(f'Adjacent communities are {adjacent_communities}')"
   ]
  },
  {
   "cell_type": "code",
   "execution_count": 13,
   "id": "428ed837-f1b6-4795-9239-2a2474bbc047",
   "metadata": {},
   "outputs": [
    {
     "name": "stdout",
     "output_type": "stream",
     "text": [
      "All communities to look at are {0, 1, 2, 7, 8, 9, 10, 11}\n"
     ]
    }
   ],
   "source": [
    "# union all communities: home community + adjacent community\n",
    "all_communities = home_community.union(adjacent_communities)\n",
    "\n",
    "print(f'All communities to look at are {all_communities}')"
   ]
  },
  {
   "cell_type": "markdown",
   "id": "d38a25c4-9082-43c8-9b85-3d191d774061",
   "metadata": {},
   "source": [
    "## Store communities as its own group"
   ]
  },
  {
   "cell_type": "code",
   "execution_count": 14,
   "id": "327e9c9b-be6d-48ae-a924-a6f8d9243723",
   "metadata": {},
   "outputs": [],
   "source": [
    "'''\n",
    "store communities in a dict: \n",
    "{4: subgraph of corresponding nodes, 6: subgraph of corresponding nodes, ...}\n",
    "'''\n",
    "\n",
    "# Store communities and their corresponding protein name as a dictionary\n",
    "# {0: [proteins], 8: [proteins]}\n",
    "\n",
    "community_proteinList = {}\n",
    "\n",
    "for community_num in all_communities:\n",
    "    community_proteinList[community_num] = []\n",
    "\n",
    "for protein, community_num in partition_SA.items():\n",
    "    if community_num in all_communities:\n",
    "        community_proteinList[community_num].append(protein)\n",
    "\n",
    "# Dictionary storing community and corresponding nodes' subgraph information\n",
    "clusters = {}\n",
    "for community_num, protein_list in community_proteinList.items():\n",
    "    clusters[community_num] = G_SA.subgraph(protein_list)"
   ]
  },
  {
   "cell_type": "markdown",
   "id": "5f143ef4-5035-44ac-9a9b-875280f8cbd1",
   "metadata": {},
   "source": [
    "## Communities size and number of edges"
   ]
  },
  {
   "cell_type": "code",
   "execution_count": 15,
   "id": "87a05c52-0b7b-4550-b571-ce52b5293062",
   "metadata": {},
   "outputs": [
    {
     "name": "stdout",
     "output_type": "stream",
     "text": [
      "The size of Community 0 is: 33\n",
      "The size of Community 1 is: 50\n",
      "The size of Community 2 is: 75\n",
      "The size of Community 7 is: 49\n",
      "The size of Community 8 is: 63\n",
      "The size of Community 9 is: 66\n",
      "The size of Community 10 is: 33\n",
      "The size of Community 11 is: 75\n"
     ]
    }
   ],
   "source": [
    "for community_num, protein_list in community_proteinList.items():\n",
    "    print(f'The size of Community {community_num} is: {len(protein_list)}')\n",
    "    #print(f'The number of edges of Community {community_num} is: {clusters[community_num].number_of_edges()}\\n')"
   ]
  },
  {
   "cell_type": "markdown",
   "id": "6dcbbf5a-ed8f-4284-a7d4-cff0440d9dc1",
   "metadata": {},
   "source": [
    "## Select reasonable adjacent communities"
   ]
  },
  {
   "cell_type": "markdown",
   "id": "1abe3d1e-2836-4775-97f8-21453c5ea52b",
   "metadata": {},
   "source": [
    "### Rank normalised number of connections from target community to adjacent communities"
   ]
  },
  {
   "cell_type": "code",
   "execution_count": 16,
   "id": "d696676c-9b23-4539-bd9f-8920d5b10f0c",
   "metadata": {},
   "outputs": [
    {
     "name": "stdout",
     "output_type": "stream",
     "text": [
      "Community 0 has number of connection: 7\n",
      "Community 0 has normalised connection score: 0.21212121212121213\n",
      "\n",
      "Community 1 has number of connection: 1\n",
      "Community 1 has normalised connection score: 0.02\n",
      "\n",
      "Community 2 has number of connection: 43\n",
      "Community 2 has normalised connection score: 0.5733333333333334\n",
      "\n",
      "Community 7 has number of connection: 4\n",
      "Community 7 has normalised connection score: 0.08163265306122448\n",
      "\n",
      "Community 8 has number of connection: 1\n",
      "Community 8 has normalised connection score: 0.015873015873015872\n",
      "\n",
      "Community 9 has number of connection: 5\n",
      "Community 9 has normalised connection score: 0.07575757575757576\n",
      "\n",
      "Community 11 has number of connection: 17\n",
      "Community 11 has normalised connection score: 0.22666666666666666\n",
      "\n"
     ]
    }
   ],
   "source": [
    "# direct connction: normalised number of connections between the target community and adjacent communities\n",
    "# direction score: number of connections between the target community and adjacent communities / total number of connections of the adjacent community \n",
    "direct_connection = {}\n",
    "for community in adjacent_communities:\n",
    "    direct_connection[community] = 0\n",
    "\n",
    "for protein in proteins_in_target_community:\n",
    "    for community, nodeList in community_proteinList.items():\n",
    "        if community in adjacent_communities:\n",
    "            for node in nodeList:\n",
    "                if node in G.neighbors(protein):\n",
    "                    direct_connection[community] += 1\n",
    "\n",
    "# normalised the number of connection\n",
    "for community, n_connection in direct_connection.items():\n",
    "    print(f'Community {community} has number of connection: {direct_connection[community]}')\n",
    "   \n",
    "    direct_connection[community] = n_connection / len(community_proteinList[community])   \n",
    "    print(f'Community {community} has normalised connection score: {direct_connection[community]}')\n",
    "    print('')"
   ]
  },
  {
   "cell_type": "code",
   "execution_count": 17,
   "id": "53cf7b0b-432a-4253-8449-532d982437b6",
   "metadata": {},
   "outputs": [
    {
     "name": "stdout",
     "output_type": "stream",
     "text": [
      "Community 2 has score: 0.5733333333333334 (after sorted)\n",
      "Community 11 has score: 0.22666666666666666 (after sorted)\n",
      "Community 0 has score: 0.21212121212121213 (after sorted)\n",
      "Community 7 has score: 0.08163265306122448 (after sorted)\n",
      "Community 9 has score: 0.07575757575757576 (after sorted)\n",
      "Community 1 has score: 0.02 (after sorted)\n",
      "Community 8 has score: 0.015873015873015872 (after sorted)\n",
      "\n",
      " The chosen adjacent communities (top 3) are: [2, 11, 0]\n"
     ]
    }
   ],
   "source": [
    "# sort the number of direct connection with value\n",
    "\n",
    "#sorted_direct_connection = {k: v for k, v in sorted(direct_connection.items(), key=lambda item: item[1])}\n",
    "sorted_direct_connection = dict(sorted(direct_connection.items(), key=lambda item: item[1], reverse = True))\n",
    "\n",
    "for key, items in sorted_direct_connection.items():\n",
    "    print(f'Community {key} has score: {items} (after sorted)')\n",
    "\n",
    "\n",
    "# choose top adjacent communities\n",
    "n_adjacent = 3\n",
    "chosen_adjacent = list( sorted_direct_connection.keys() )[:n_adjacent]\n",
    "\n",
    "print(f'\\n The chosen adjacent communities (top {n_adjacent}) are: {chosen_adjacent}')"
   ]
  },
  {
   "cell_type": "markdown",
   "id": "262debf4-de6f-4246-9366-c431c473feb7",
   "metadata": {},
   "source": [
    "## Representative nodes in the found communities"
   ]
  },
  {
   "cell_type": "markdown",
   "id": "a5f93416-62aa-47bd-80f2-3221c6b8d415",
   "metadata": {},
   "source": [
    "### Representative nodes: (closeness), betweeness centrality, (eigenvalue), information, subgraph"
   ]
  },
  {
   "cell_type": "code",
   "execution_count": 18,
   "id": "8b1f389b-7016-4abe-8553-f6063d057305",
   "metadata": {},
   "outputs": [],
   "source": [
    "# {community: protein, community: protein, xxx}\n",
    "closeness_representatives = {}\n",
    "betweenness_representatives = {}\n",
    "eigenvalue_representatives = {}\n",
    "information_representatives = {}\n",
    "subgraph_representatives = {}\n",
    "PCA_representatives = {}\n",
    "\n",
    "# second representatives\n",
    "closeness_second_representatives = {}\n",
    "betweenness_second_representatives = {}\n",
    "eigenvalue_second_representatives = {}\n",
    "information_second_representatives = {}\n",
    "subgraph_second_representatives = {}\n",
    "PCA_second_representatives = {}\n",
    "\n",
    "communities_to_focus = home_community.union(chosen_adjacent)\n",
    "\n",
    "for community in communities_to_focus:\n",
    "    # # closeness {node: score, node: score, xxx}\n",
    "    # closeness = {}\n",
    "    # closeness = nx.closeness_centrality(clusters[community], u=None, distance=None, wf_improved=True)\n",
    "    # max_closeness = max(closeness.values()) # max because in networkX it is reciprocal to the average distance\n",
    "    \n",
    "    # for protein in closeness:\n",
    "    #     if closeness[protein] == max_closeness:\n",
    "    #         closeness_representatives[community] = protein\n",
    "\n",
    "    # ## second representatives\n",
    "    # found_representative, score = second_max(closeness)\n",
    "    # closeness_second_representatives[community] = found_representative\n",
    "    \n",
    "\n",
    "    # betweenness\n",
    "    # whether to set seed?\n",
    "    betweenness = {}\n",
    "    betweenness = nx.betweenness_centrality(clusters[community], k=None, normalized=True, weight=None, endpoints=False, seed=2013) \n",
    "    max_betweenness = max(betweenness.values())\n",
    "    \n",
    "    for protein in betweenness:\n",
    "        if betweenness[protein] == max_betweenness:\n",
    "            betweenness_representatives[community] = protein\n",
    "\n",
    "    ## second representatives\n",
    "    found_representative, score = second_max(betweenness)\n",
    "    betweenness_second_representatives[community] = found_representative\n",
    "\n",
    "    # # eigenvalue\n",
    "    # # how to set max_iter\n",
    "    # eigenvalue = {}\n",
    "    # eigenvalue = nx.eigenvector_centrality(clusters[community], max_iter=150, tol=1e-06, nstart=None, weight=None)\n",
    "    # max_eigenvalue = max(eigenvalue.values())\n",
    "    \n",
    "    # for protein in eigenvalue:\n",
    "    #     if eigenvalue[protein] == max_eigenvalue:\n",
    "    #         eigenvalue_representatives[community] = protein \n",
    "\n",
    "    # ## second representatives\n",
    "    # found_representative, score = second_max(eigenvalue)\n",
    "    # eigenvalue_second_representatives[community] = found_representative\n",
    "\n",
    "    # information\n",
    "    information = {}\n",
    "    information = nx.information_centrality(clusters[community], weight=None, solver='lu')\n",
    "    max_information = max(information.values())\n",
    "    \n",
    "    for protein in information:\n",
    "        if information[protein] == max_information:\n",
    "            information_representatives[community] = protein \n",
    "\n",
    "    ## second representatives\n",
    "    found_representative, score = second_max(information)\n",
    "    information_second_representatives[community] = found_representative\n",
    "\n",
    "    \n",
    "    # subgraph\n",
    "    subgraph = {}\n",
    "    subgraph = nx.subgraph_centrality(clusters[community])\n",
    "    max_subgraph = max(subgraph.values())\n",
    "    \n",
    "    for protein in subgraph:\n",
    "        if subgraph[protein] == max_subgraph:\n",
    "            subgraph_representatives[community] = protein \n",
    "\n",
    "    ## second representatives\n",
    "    found_representative, score = second_max(subgraph)\n",
    "    subgraph_second_representatives[community] = found_representative\n",
    "\n",
    "    \n",
    "    # PCA: \n",
    "    PCA = {}\n",
    "    PCA = centrality_calculater(clusters[community])\n",
    "    \n",
    "    max_pca = max(PCA.values())\n",
    "\n",
    "    for protein in PCA:\n",
    "        if PCA[protein] == max_pca:\n",
    "            PCA_representatives[community] = protein\n",
    "\n",
    "    ## second representatives\n",
    "    found_representative, score = second_max(PCA)\n",
    "    PCA_second_representatives[community] = found_representative"
   ]
  },
  {
   "cell_type": "code",
   "execution_count": 19,
   "id": "38d04c38-838e-46e0-8614-6126128ac6f4",
   "metadata": {},
   "outputs": [
    {
     "name": "stdout",
     "output_type": "stream",
     "text": [
      "Betweenness representatives:\n",
      "  - Community 11: YNL298W\n",
      "  - Community 0: YMR037C\n",
      "  - Community 10: YKL178C\n",
      "  - Community 2: YLR113W\n",
      "\n",
      "Betweenness second representatives:\n",
      "  - Community 11: YLR319C\n",
      "  - Community 0: YNL098C\n",
      "  - Community 10: YKL209C\n",
      "  - Community 2: YGR040W\n",
      "\n",
      "Information representatives:\n",
      "  - Community 11: YGR152C\n",
      "  - Community 0: YMR037C\n",
      "  - Community 10: YKL178C\n",
      "  - Community 2: YLR113W\n",
      "\n",
      "Inforrmation second representatives:\n",
      "  - Community 11: YNL298W\n",
      "  - Community 0: YNL098C\n",
      "  - Community 10: YFL026W\n",
      "  - Community 2: YGR040W\n",
      "\n",
      "Subgraph representatives:\n",
      "  - Community 11: YGR152C\n",
      "  - Community 0: YNL098C\n",
      "  - Community 10: YFL026W\n",
      "  - Community 2: YLR113W\n",
      "\n",
      "Subgraph second representatives:\n",
      "  - Community 11: YJR092W\n",
      "  - Community 0: YIL033C\n",
      "  - Community 10: YKL178C\n",
      "  - Community 2: YJL128C\n",
      "\n",
      "PCA representatives:\n",
      "  - Community 11: YGR152C\n",
      "  - Community 0: YNL098C\n",
      "  - Community 10: YKL178C\n",
      "  - Community 2: YLR113W\n",
      "\n",
      "PCA second representatives:\n",
      "  - Community 11: YNL298W\n",
      "  - Community 0: YMR037C\n",
      "  - Community 10: YKL209C\n",
      "  - Community 2: YGR040W\n",
      "\n",
      "All representatives: {'YKL178C', 'YNL298W', 'YFL026W', 'YLR113W', 'YNL098C', 'YGR152C', 'YMR037C'}\n",
      "\n",
      "All second representatives: {'YKL178C', 'YJL128C', 'YJR092W', 'YKL209C', 'YLR319C', 'YNL298W', 'YFL026W', 'YGR040W', 'YNL098C', 'YIL033C', 'YMR037C'}\n",
      "\n"
     ]
    }
   ],
   "source": [
    "# print results and put them in a set\n",
    "representatives = set()\n",
    "second_representatives = set()\n",
    "\n",
    "# print('Closeness representatives:')\n",
    "# for communityNum, protein in closeness_representatives.items():\n",
    "#     representatives.add(protein)\n",
    "#     print(f'  - Community {communityNum}: {protein}')\n",
    "# print('')\n",
    "\n",
    "# print('Closeness second representatives:')\n",
    "# for communityNum, protein in closeness_second_representatives.items():\n",
    "#     second_representatives.add(protein)\n",
    "#     print(f'  - Community {communityNum}: {protein}')\n",
    "# print('')\n",
    "\n",
    "\n",
    "print('Betweenness representatives:')\n",
    "for communityNum, protein in betweenness_representatives.items():\n",
    "    representatives.add(protein)\n",
    "    print(f'  - Community {communityNum}: {protein}')\n",
    "print('')\n",
    "\n",
    "print('Betweenness second representatives:')\n",
    "for communityNum, protein in betweenness_second_representatives.items():\n",
    "    second_representatives.add(protein)\n",
    "    print(f'  - Community {communityNum}: {protein}')\n",
    "print('')\n",
    "\n",
    "\n",
    "# print('Eigenvalue representatives:')\n",
    "# for communityNum, protein in eigenvalue_representatives.items():\n",
    "#     representatives.add(protein)\n",
    "#     print(f'  - Community {communityNum}: {protein}')\n",
    "# print('')\n",
    "\n",
    "# print('Eigenvalue second representatives:')\n",
    "# for communityNum, protein in eigenvalue_second_representatives.items():\n",
    "#     second_representatives.add(protein)\n",
    "#     print(f'  - Community {communityNum}: {protein}')\n",
    "# print('')\n",
    "\n",
    "\n",
    "print('Information representatives:')\n",
    "for communityNum, protein in information_representatives.items():\n",
    "    representatives.add(protein)\n",
    "    print(f'  - Community {communityNum}: {protein}')\n",
    "print('')\n",
    "\n",
    "print('Inforrmation second representatives:')\n",
    "for communityNum, protein in information_second_representatives.items():\n",
    "    second_representatives.add(protein)\n",
    "    print(f'  - Community {communityNum}: {protein}')\n",
    "print('')\n",
    "\n",
    "\n",
    "print('Subgraph representatives:')\n",
    "for communityNum, protein in subgraph_representatives.items():\n",
    "    representatives.add(protein)\n",
    "    print(f'  - Community {communityNum}: {protein}')\n",
    "print('')\n",
    "\n",
    "print('Subgraph second representatives:')\n",
    "for communityNum, protein in subgraph_second_representatives.items():\n",
    "    second_representatives.add(protein)\n",
    "    print(f'  - Community {communityNum}: {protein}')\n",
    "print('')\n",
    "\n",
    "\n",
    "print('PCA representatives:')\n",
    "for communityNum, protein in PCA_representatives.items():\n",
    "    representatives.add(protein)\n",
    "    print(f'  - Community {communityNum}: {protein}')\n",
    "print('')\n",
    "\n",
    "print('PCA second representatives:')\n",
    "for communityNum, protein in PCA_second_representatives.items():\n",
    "    second_representatives.add(protein)\n",
    "    print(f'  - Community {communityNum}: {protein}')\n",
    "print('')\n",
    "\n",
    "print(f'All representatives: {representatives}\\n')\n",
    "print(f'All second representatives: {second_representatives}\\n')"
   ]
  },
  {
   "cell_type": "markdown",
   "id": "232c356a-875c-4b42-908d-56ce49441111",
   "metadata": {},
   "source": [
    "### Shotest paths between target proteins and representatives"
   ]
  },
  {
   "cell_type": "code",
   "execution_count": 20,
   "id": "7a095899-8ed8-426d-bc97-dcb53e24d8d0",
   "metadata": {},
   "outputs": [
    {
     "name": "stdout",
     "output_type": "stream",
     "text": [
      "- STE24(YJR117W):\n",
      "Shortest path to YKL178C: ['YJR117W', 'YDR410C', 'YKL178C']\n",
      "Shortest path to YNL298W: ['YJR117W', 'YPR122W', 'YGR152C', 'YNL298W']\n",
      "Shortest path to YFL026W: ['YJR117W', 'YKL209C', 'YFL026W']\n",
      "Shortest path to YLR113W: ['YJR117W', 'YDL090C', 'YNL098C', 'YLR113W']\n",
      "Shortest path to YNL098C: ['YJR117W', 'YDL090C', 'YNL098C']\n",
      "Shortest path to YGR152C: ['YJR117W', 'YPR122W', 'YGR152C']\n",
      "Shortest path to YMR037C: ['YJR117W', 'YDL090C', 'YNL098C', 'YMR037C']\n",
      "\n",
      "- RCE1(YMR274C):\n",
      "Shortest path to YKL178C: ['YMR274C', 'YDR410C', 'YKL178C']\n",
      "Shortest path to YNL298W: ['YMR274C', 'YDL135C', 'YOR127W', 'YNL298W']\n",
      "Shortest path to YFL026W: ['YMR274C', 'YKL209C', 'YFL026W']\n",
      "Shortest path to YLR113W: ['YMR274C', 'YNL098C', 'YLR113W']\n",
      "Shortest path to YNL098C: ['YMR274C', 'YNL098C']\n",
      "Shortest path to YGR152C: ['YMR274C', 'YDL135C', 'YGR152C']\n",
      "Shortest path to YMR037C: ['YMR274C', 'YNL098C', 'YMR037C']\n",
      "\n",
      "- RAM1(YDL090C):\n",
      "Shortest path to YKL178C: ['YDL090C', 'YDR410C', 'YKL178C']\n",
      "Shortest path to YNL298W: ['YDL090C', 'YPR122W', 'YGR152C', 'YNL298W']\n",
      "Shortest path to YFL026W: ['YDL090C', 'YKL209C', 'YFL026W']\n",
      "Shortest path to YLR113W: ['YDL090C', 'YNL098C', 'YLR113W']\n",
      "Shortest path to YNL098C: ['YDL090C', 'YNL098C']\n",
      "Shortest path to YGR152C: ['YDL090C', 'YPR122W', 'YGR152C']\n",
      "Shortest path to YMR037C: ['YDL090C', 'YNL098C', 'YMR037C']\n",
      "\n"
     ]
    }
   ],
   "source": [
    "for target_protein in all_proteins:\n",
    "    print('- ' + print_protein(target_protein) + ':')\n",
    "    for rep in representatives:\n",
    "        path = nx.shortest_path(G, source=target_protein, target=rep, weight=None, method='dijkstra')\n",
    "        print(f\"Shortest path to {rep}: {path}\")\n",
    "    print('')"
   ]
  },
  {
   "cell_type": "code",
   "execution_count": null,
   "id": "f97b4229-fd46-4d9d-92f3-2440a50e185a",
   "metadata": {},
   "outputs": [],
   "source": []
  }
 ],
 "metadata": {
  "kernelspec": {
   "display_name": "Python 3 (ipykernel)",
   "language": "python",
   "name": "python3"
  },
  "language_info": {
   "codemirror_mode": {
    "name": "ipython",
    "version": 3
   },
   "file_extension": ".py",
   "mimetype": "text/x-python",
   "name": "python",
   "nbconvert_exporter": "python",
   "pygments_lexer": "ipython3",
   "version": "3.9.1"
  }
 },
 "nbformat": 4,
 "nbformat_minor": 5
}
