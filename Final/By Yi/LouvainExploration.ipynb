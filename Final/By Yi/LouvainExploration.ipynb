{
 "cells": [
  {
   "cell_type": "markdown",
   "id": "aa9ccbe7-cc34-475d-8197-bcca7cb41ac8",
   "metadata": {},
   "source": [
    "# Import files, proteins, construct and filter the network"
   ]
  },
  {
   "cell_type": "code",
   "execution_count": 1,
   "id": "54c1c454-b4af-4b09-852e-2ea88c2f4dd1",
   "metadata": {},
   "outputs": [],
   "source": [
    "import networkx as nx\n",
    "import numpy as np\n",
    "import matplotlib.pyplot as plt\n",
    "\n",
    "# for Louvain algo\n",
    "from networkx.algorithms import community\n",
    "from networkx.algorithms.community import greedy_modularity_communities\n",
    "from networkx.algorithms.community import k_clique_communities\n",
    "\n",
    "from community import community_louvain\n",
    "\n",
    "# for copying graph\n",
    "import copy\n",
    "\n",
    "\n",
    "# # set seed\n",
    "# import random\n",
    "# random.seed(2013)\n",
    "\n",
    "# basic settings for plotting figures\n",
    "%matplotlib inline \n",
    "font = {'family' : 'DejaVu Sans',\n",
    "        'weight' : 'bold',\n",
    "        'size'   : 12}\n",
    "\n",
    "plt.rc('font', **font)"
   ]
  },
  {
   "cell_type": "code",
   "execution_count": 2,
   "id": "66ac4993-0fe2-411f-bfa9-8e59c7ab48ba",
   "metadata": {},
   "outputs": [],
   "source": [
    "'''\n",
    "STE24 - YJR117W\n",
    "RCE1  - YMR274C\n",
    "RAM1  - YDL090C\n",
    "'''\n",
    "# Proteins that we focus on\n",
    "def print_protein(str):\n",
    "    if str == 'YJR117W':\n",
    "        return 'STE24(YJR117W)'\n",
    "    elif str == 'YMR274C':\n",
    "        return 'RCE1(YMR274C)'\n",
    "    elif str == 'YDL090C':\n",
    "        return 'RAM1(YDL090C)'"
   ]
  },
  {
   "cell_type": "code",
   "execution_count": 3,
   "id": "499a2bbc-1dcd-40b3-955c-f67bae58b552",
   "metadata": {},
   "outputs": [],
   "source": [
    "# Store proteins into a list\n",
    "all_proteins = ['YJR117W', 'YMR274C', 'YDL090C']"
   ]
  },
  {
   "cell_type": "code",
   "execution_count": 4,
   "id": "6f1524c9-20fd-45ae-9cdf-e1cc698dae44",
   "metadata": {},
   "outputs": [],
   "source": [
    "# Store the network as G\n",
    "# Storing format - dictionary: { u: {v1: {'weight': 123.0}, v2: {'weight': 456.0} } }; u, v - str\n",
    "G = nx.read_weighted_edgelist(\"cleanData.txt\",comments=\"#\",nodetype=str)"
   ]
  },
  {
   "cell_type": "code",
   "execution_count": 5,
   "id": "31a4b91e-1d1b-4947-98c6-221f922d0a74",
   "metadata": {},
   "outputs": [],
   "source": [
    "# Remove edges with confidence score <= 700\n",
    "threshold = 700\n",
    "for edge in G.edges:     \n",
    "    # edge (u, v), an edge between node u and node v\n",
    "    u = edge[0]\n",
    "    v = edge[1]\n",
    "    weight = G[u][v]['weight']\n",
    "\n",
    "    if weight <= threshold:\n",
    "        G.remove_edge(u,v)"
   ]
  },
  {
   "cell_type": "markdown",
   "id": "ae57e40c-923c-41b1-8050-aa14d761991b",
   "metadata": {},
   "source": [
    "# Total number of nodes and edge after filtered"
   ]
  },
  {
   "cell_type": "code",
   "execution_count": 6,
   "id": "776f908d-9727-4304-94f6-64a9a61834b4",
   "metadata": {},
   "outputs": [
    {
     "name": "stdout",
     "output_type": "stream",
     "text": [
      "Total number of data is 5228\n",
      "\n",
      "number of edges of G: 46908\n"
     ]
    }
   ],
   "source": [
    "print(f'Total number of data is {len(G)}\\n')\n",
    "print('number of edges of G:',G.number_of_edges())"
   ]
  },
  {
   "cell_type": "markdown",
   "id": "97b7b52e-6185-49b4-a970-b9f368a5f27b",
   "metadata": {},
   "source": [
    "# Explore Louvain algorithm"
   ]
  },
  {
   "cell_type": "markdown",
   "id": "32c2a7d9-6b22-4d6f-88a5-38b57195d87c",
   "metadata": {},
   "source": [
    "## same seed, different resolution"
   ]
  },
  {
   "cell_type": "code",
   "execution_count": 7,
   "id": "d625cf03-3656-45a7-ac74-a78f086fee44",
   "metadata": {},
   "outputs": [
    {
     "name": "stdout",
     "output_type": "stream",
     "text": [
      "Resolution 1.0:\n",
      "    Total number of communities: 802\n",
      "    \n",
      "    \n",
      "Resolution 3.0:\n",
      "    Total number of communities: 844\n",
      "    \n",
      "    \n",
      "Resolution 10.0:\n",
      "    Total number of communities: 1040\n",
      "    \n",
      "    \n",
      "Resolution 100.0:\n",
      "    Total number of communities: 1590\n",
      "    \n",
      "    \n",
      "Resolution 1000.0:\n",
      "    Total number of communities: 3409\n",
      "    \n",
      "    \n"
     ]
    }
   ],
   "source": [
    "\n",
    "# weight = 'None' as unweighted graph\n",
    "# random_state: int; seed\n",
    "# resolution: int; control the community size\n",
    "\n",
    "resolution = [1.0, 3.0, 10.0, 100.0, 1000.0]\n",
    "\n",
    "partitions = {} # { resolution1: {community1: [], community1: []}, resolution1: {community1: [], community1: []} }\n",
    "for res in resolution:\n",
    "    partitions[res] = {}\n",
    "\n",
    "for res in resolution:\n",
    "    \n",
    "    # {protein1: community, protein2: community, ...} - {string : int}   \n",
    "    partition_Louvain = community_louvain.best_partition(G, weight = 'None', random_state = 2013, resolution = res) \n",
    "\n",
    "    # initialise the partition data struction\n",
    "    all_community = set() \n",
    "    for community in partition_Louvain.values():\n",
    "        all_community.add(community)\n",
    "\n",
    "    for community in all_community:\n",
    "        partitions[res][community] = []\n",
    "\n",
    "    # fill in the nodes in each community\n",
    "    for protein, community in partition_Louvain.items():\n",
    "        partitions[res][community].append(protein)\n",
    "\n",
    "# print our the results:\n",
    "for res in partitions.keys():\n",
    "    print(f'''Resolution {res}:\n",
    "    Total number of communities: {len(partitions[res])}\n",
    "    \n",
    "    ''')"
   ]
  },
  {
   "cell_type": "markdown",
   "id": "db8cd3f6-dcce-49b1-b9a1-4f9301f30b62",
   "metadata": {},
   "source": [
    "## Modularity distribution under different seeds"
   ]
  },
  {
   "cell_type": "code",
   "execution_count": 8,
   "id": "698667b8-0aa9-40b2-b6e2-35a04b61f82c",
   "metadata": {},
   "outputs": [],
   "source": [
    "loop_time = 100\n",
    "all_modularity = []\n",
    "max_modularity = float('-inf')\n",
    "chosen_seed = -1\n",
    "\n",
    "\n",
    "for i in range(loop_time):\n",
    "    seed = i\n",
    "    temp_partition = community_louvain.best_partition(G, weight = 'None', random_state = seed, resolution = 1.0)\n",
    "    # https://python-louvain.readthedocs.io/en/latest/api.html\n",
    "    temp_modularity = community_louvain.modularity(temp_partition, G, weight='None')\n",
    "    \n",
    "    all_modularity.append(temp_modularity) # store only for future reference\n",
    "    \n",
    "    if temp_modularity >= max_modularity:\n",
    "        max_modularity = temp_modularity\n",
    "        partition_Louvain = temp_partition\n",
    "        chosen_seed = i"
   ]
  },
  {
   "cell_type": "code",
   "execution_count": 9,
   "id": "ba9c2113-f59b-4e46-b68b-e6296bb68394",
   "metadata": {},
   "outputs": [
    {
     "name": "stdout",
     "output_type": "stream",
     "text": [
      "The maximum modularity is: 0.6508386752671642; while the minimum modularity is 0.641071157012028\n",
      "The seed that achieve the max modularity is: 82\n"
     ]
    }
   ],
   "source": [
    "print(f'The maximum modularity is: {max_modularity}; while the minimum modularity is {min(all_modularity)}')\n",
    "print(f'The seed that achieve the max modularity is: {chosen_seed}')"
   ]
  },
  {
   "cell_type": "code",
   "execution_count": 10,
   "id": "410f9378-cbb4-417f-ad11-5c0b58ffd7f1",
   "metadata": {},
   "outputs": [
    {
     "data": {
      "image/png": "[encoded data removed]",
      "text/plain": [
       "<Figure size 640x480 with 1 Axes>"
      ]
     },
     "metadata": {},
     "output_type": "display_data"
    }
   ],
   "source": [
    "# histogram\n",
    "plt.hist(all_modularity, bins = 50)\n",
    "plt.xlabel('Modularity score')\n",
    "plt.ylabel('Counts') \n",
    "\n",
    "plt.show()"
   ]
  },
  {
   "cell_type": "code",
   "execution_count": null,
   "id": "1ccbf330-ed3d-43c5-a78c-65d4eaadd5f1",
   "metadata": {},
   "outputs": [],
   "source": []
  }
 ],
 "metadata": {
  "kernelspec": {
   "display_name": "Python 3 (ipykernel)",
   "language": "python",
   "name": "python3"
  },
  "language_info": {
   "codemirror_mode": {
    "name": "ipython",
    "version": 3
   },
   "file_extension": ".py",
   "mimetype": "text/x-python",
   "name": "python",
   "nbconvert_exporter": "python",
   "pygments_lexer": "ipython3",
   "version": "3.9.1"
  }
 },
 "nbformat": 4,
 "nbformat_minor": 5
}
